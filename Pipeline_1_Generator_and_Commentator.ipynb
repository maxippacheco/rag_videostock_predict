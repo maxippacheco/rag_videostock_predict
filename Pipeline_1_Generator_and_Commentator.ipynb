{
  "nbformat": 4,
  "nbformat_minor": 0,
  "metadata": {
    "colab": {
      "provenance": []
    },
    "kernelspec": {
      "name": "python3",
      "display_name": "Python 3"
    },
    "language_info": {
      "name": "python"
    }
  },
  "cells": [
    {
      "cell_type": "markdown",
      "source": [
        "# Installing environment"
      ],
      "metadata": {
        "id": "fQmVtda-7wi4"
      }
    },
    {
      "cell_type": "markdown",
      "source": [
        "##  Importing modules and libraries"
      ],
      "metadata": {
        "id": "3pWGIKLRWL_L"
      }
    },
    {
      "cell_type": "code",
      "execution_count": 8,
      "metadata": {
        "id": "QZbuMU0oWIBT"
      },
      "outputs": [],
      "source": [
        "from IPython.display import HTML # to display videos\n",
        "import base64 # to encode videos as base64\n",
        "from base64 import b64encode # to encode videos as base64\n",
        "import os # to interact with the operating system\n",
        "import subprocess # to run commands\n",
        "import time # to measure execution time\n",
        "import csv # to save comments\n",
        "import uuid # to generate unique ids\n",
        "import cv2 # to split videos\n",
        "from PIL import Image # to display videos\n",
        "import pandas as pd # to display comments\n",
        "import numpy as np # to use Numerical Python\n",
        "from io import BytesIO #to manage a binary stream of data in memory"
      ]
    },
    {
      "cell_type": "code",
      "source": [
        "def download(directory, filename):\n",
        "    # The base URL of the image files in the GitHub repository\n",
        "    base_url = 'https://raw.githubusercontent.com/Denis2054/RAG-Driven-Generative-AI/main/'\n",
        "\n",
        "    # Complete URL for the file\n",
        "    file_url = f\"{base_url}{directory}/{filename}\"\n",
        "\n",
        "    # Use curl to download the file, including an Authorization header for the private token\n",
        "    try:\n",
        "        # Prepare the curl command with the Authorization header\n",
        "        curl_command = f'curl -o {filename} {file_url}'\n",
        "\n",
        "        # Execute the curl command\n",
        "        subprocess.run(curl_command, check=True, shell=True)\n",
        "        print(f\"Downloaded '{filename}' successfully.\")\n",
        "    except subprocess.CalledProcessError:\n",
        "        print(f\"Failed to download '{filename}'. Check the URL, your internet connection and the file path\")"
      ],
      "metadata": {
        "id": "HDSKGQsMWsfN"
      },
      "execution_count": 9,
      "outputs": []
    },
    {
      "cell_type": "markdown",
      "source": [
        "## OpenAI"
      ],
      "metadata": {
        "id": "4sNJMmBrXjRz"
      }
    },
    {
      "cell_type": "code",
      "source": [
        "from google.colab import drive\n",
        "drive.mount('/content/drive')"
      ],
      "metadata": {
        "colab": {
          "base_uri": "https://localhost:8080/"
        },
        "id": "dMVqOVptXbHl",
        "outputId": "db326bcf-cbd8-4e16-f2fe-37e5620dc1c1"
      },
      "execution_count": 10,
      "outputs": [
        {
          "output_type": "stream",
          "name": "stdout",
          "text": [
            "Drive already mounted at /content/drive; to attempt to forcibly remount, call drive.mount(\"/content/drive\", force_remount=True).\n"
          ]
        }
      ]
    },
    {
      "cell_type": "code",
      "source": [
        "f = open(\"drive/MyDrive/api_key.txt\", \"r\")\n",
        "API_KEY=f.readline()\n",
        "f.close()\n",
        "\n",
        "os.environ['OPENAI_API_KEY'] =API_KEY\n",
        "openai.api_key = os.getenv(\"OPENAI_API_KEY\")"
      ],
      "metadata": {
        "id": "1CuOaiErWA4H"
      },
      "execution_count": 11,
      "outputs": []
    },
    {
      "cell_type": "code",
      "source": [
        "try:\n",
        "  import openai\n",
        "except:\n",
        "  !pip install openai==1.45.0\n",
        "import openai"
      ],
      "metadata": {
        "id": "3HtJ5g8_X-fE"
      },
      "execution_count": 12,
      "outputs": []
    },
    {
      "cell_type": "markdown",
      "source": [
        "## Pinecone"
      ],
      "metadata": {
        "id": "qNmnlQYIYadj"
      }
    },
    {
      "cell_type": "code",
      "source": [
        "!pip install pinecone\n",
        "import pinecone"
      ],
      "metadata": {
        "colab": {
          "base_uri": "https://localhost:8080/"
        },
        "id": "EqzUQrPHYbjM",
        "outputId": "50ea6dad-2807-424c-c37f-ea1922933119"
      },
      "execution_count": 13,
      "outputs": [
        {
          "output_type": "stream",
          "name": "stdout",
          "text": [
            "Collecting pinecone\n",
            "  Downloading pinecone-6.0.1-py3-none-any.whl.metadata (8.8 kB)\n",
            "Requirement already satisfied: certifi>=2019.11.17 in /usr/local/lib/python3.11/dist-packages (from pinecone) (2025.1.31)\n",
            "Collecting pinecone-plugin-interface<0.0.8,>=0.0.7 (from pinecone)\n",
            "  Downloading pinecone_plugin_interface-0.0.7-py3-none-any.whl.metadata (1.2 kB)\n",
            "Requirement already satisfied: python-dateutil>=2.5.3 in /usr/local/lib/python3.11/dist-packages (from pinecone) (2.8.2)\n",
            "Requirement already satisfied: typing-extensions>=3.7.4 in /usr/local/lib/python3.11/dist-packages (from pinecone) (4.12.2)\n",
            "Requirement already satisfied: urllib3>=1.26.0 in /usr/local/lib/python3.11/dist-packages (from pinecone) (2.3.0)\n",
            "Requirement already satisfied: six>=1.5 in /usr/local/lib/python3.11/dist-packages (from python-dateutil>=2.5.3->pinecone) (1.17.0)\n",
            "Downloading pinecone-6.0.1-py3-none-any.whl (421 kB)\n",
            "\u001b[2K   \u001b[90m━━━━━━━━━━━━━━━━━━━━━━━━━━━━━━━━━━━━━━━━\u001b[0m \u001b[32m421.4/421.4 kB\u001b[0m \u001b[31m22.3 MB/s\u001b[0m eta \u001b[36m0:00:00\u001b[0m\n",
            "\u001b[?25hDownloading pinecone_plugin_interface-0.0.7-py3-none-any.whl (6.2 kB)\n",
            "Installing collected packages: pinecone-plugin-interface, pinecone\n",
            "Successfully installed pinecone-6.0.1 pinecone-plugin-interface-0.0.7\n"
          ]
        }
      ]
    },
    {
      "cell_type": "code",
      "source": [
        "f = open(\"drive/MyDrive/pinecone.txt\", \"r\")\n",
        "PINECONE_API_KEY=f.readline()\n",
        "f.close()"
      ],
      "metadata": {
        "id": "8Q0QAdGaYe-0"
      },
      "execution_count": 14,
      "outputs": []
    },
    {
      "cell_type": "markdown",
      "source": [
        "# Displaying the video"
      ],
      "metadata": {
        "id": "MCaaqdsSepbo"
      }
    },
    {
      "cell_type": "code",
      "source": [
        "# Open the file in binary mode\n",
        "def display_video(file_name):\n",
        "  with open(file_name, 'rb') as file:\n",
        "      video_data = file.read()\n",
        "\n",
        "  # Encode the video file as base64\n",
        "  video_url = b64encode(video_data).decode()\n",
        "\n",
        "  # Create an HTML string with the embeddZed video\n",
        "  html = f'''\n",
        "  <video width=\"640\" height=\"480\" controls>\n",
        "    <source src=\"data:video/mp4;base64,{video_url}\" type=\"video/mp4\">\n",
        "  Your browser does not support the video tag.\n",
        "  </video>\n",
        "  '''\n",
        "  # Display the video\n",
        "  HTML(html)\n",
        "  # Return the HTML object\n",
        "  return HTML(html)"
      ],
      "metadata": {
        "id": "pht9i7Y1etEo"
      },
      "execution_count": 15,
      "outputs": []
    },
    {
      "cell_type": "markdown",
      "source": [
        "# Splitting video into frames"
      ],
      "metadata": {
        "id": "ut_nG338e2Wg"
      }
    },
    {
      "cell_type": "code",
      "source": [
        "def split_file(file_name):\n",
        "  video_path = file_name\n",
        "  cap = cv2.VideoCapture(video_path)\n",
        "\n",
        "  frame_number = 0\n",
        "  while cap.isOpened():\n",
        "    ret, frame = cap.read()\n",
        "    if not ret:\n",
        "      break\n",
        "    cv2.imwrite(f\"frame_{frame_number}.jpg\", frame)\n",
        "    frame_number += 1\n",
        "    print(f\"Frame {frame_number} saved.\")\n",
        "  cap.release()\n",
        "# Generator job's finished here."
      ],
      "metadata": {
        "id": "GMcomYRle4L4"
      },
      "execution_count": 16,
      "outputs": []
    },
    {
      "cell_type": "markdown",
      "source": [
        "# Commenting on the frames"
      ],
      "metadata": {
        "id": "y1UE8BwtfQbw"
      }
    },
    {
      "cell_type": "code",
      "source": [
        "# Commentator's extraction fn\n",
        "def generate_comment(response_data):\n",
        "  \"\"\"Extract relevant information from GPT-4 Vision response.\"\"\"\n",
        "  try:\n",
        "    caption = response_data.choices[0].message.content\n",
        "    return caption\n",
        "  except (KeyError, AttributeError):\n",
        "    print(\"Error extracting caption from response.\")\n",
        "    return \"No caption available\""
      ],
      "metadata": {
        "id": "MuAZYpEFfRk4"
      },
      "execution_count": 17,
      "outputs": []
    },
    {
      "cell_type": "code",
      "source": [
        "def save_comment(comment, frame_number, file_name):\n",
        "  \"\"\"Save the comment to a text file formatted for seamless loading into a pandas DF.\"\"\"\n",
        "  path = f\"{file_name}.csv\"\n",
        "  write_header = not os.path.exists(path)\n",
        "\n",
        "  with open(path, 'a', newline='') as f:\n",
        "    writer = csv.writer(f, delimiter=',', quotechar='\"', quoting=csv.QUOTE_MINIMAL)\n",
        "    if write_header:\n",
        "      writer.writerow(['ID', 'FrameNumber', 'Comment', 'FileName']) # Write the header if the file is being created\n",
        "    unique_id = str(uuid.uuid4())\n",
        "    writer.writerow([unique_id, frame_number, comment, file_name])"
      ],
      "metadata": {
        "id": "nGeAXAcufqVI"
      },
      "execution_count": 18,
      "outputs": []
    },
    {
      "cell_type": "code",
      "source": [
        "import base64\n",
        "import requests\n",
        "\n",
        "def generate_openai_comments(filename):\n",
        "  video_folder = \"/content\"  # Folder containing your image frames\n",
        "  total_frames = len([file for file in os.listdir(video_folder) if file.endswith('.jpg')])\n",
        "\n",
        "  nb=3      # sample frequency\n",
        "  counter=0 #sample frequency counter\n",
        "  for frame_number in range(total_frames):\n",
        "      counter+=1 # sampler\n",
        "      if counter==nb and counter<total_frames:\n",
        "        counter=0\n",
        "        print(f\"Analyzing frame {frame_number}...\")\n",
        "        image_path = os.path.join(video_folder, f\"frame_{frame_number}.jpg\")\n",
        "        try:\n",
        "            with open(image_path, \"rb\") as image_file:\n",
        "                base64_image=base64.b64encode(image_file.read()).decode('utf-8')\n",
        "            #with open(image_path, \"rb\") as image_file:\n",
        "                #image_data = image_file.read()\n",
        "\n",
        "                response = openai.chat.completions.create(\n",
        "                    model=\"gpt-4o\",\n",
        "                    messages=[\n",
        "                        {\n",
        "                            \"role\": \"user\",\n",
        "                            \"content\": [\n",
        "                                {\"type\": \"text\", \"text\": \"What is happening in this image?\"},\n",
        "                                {\n",
        "                                    \"type\": \"image_url\",\n",
        "                                    \"image_url\": {\"url\": f\"data:image/jpeg;base64,{base64_image}\"}\n",
        "                                    #\"image_url\": f\"data:image/jpeg;base64,{base64.b64encode(image_data).decode('utf-8')}\"\n",
        "                                },\n",
        "                            ],\n",
        "                       }\n",
        "                    ],\n",
        "                    max_tokens=150,\n",
        "               )\n",
        "            comment = generate_comment(response)\n",
        "            save_comment(comment, frame_number,file_name)\n",
        "\n",
        "        except FileNotFoundError:\n",
        "            print(f\"Error: Frame {frame_number} not found.\")\n",
        "        except Exception as e:\n",
        "            print(f\"Unexpected error: {e}\")"
      ],
      "metadata": {
        "id": "RG5DWnsUgZ7f"
      },
      "execution_count": 19,
      "outputs": []
    },
    {
      "cell_type": "code",
      "source": [
        "def display_comments(file_name):\n",
        "  path = f\"{file_name}.csv\"\n",
        "  df = pd.read_csv(path)\n",
        "  return df"
      ],
      "metadata": {
        "id": "kLDBMyd2IOUr"
      },
      "execution_count": 23,
      "outputs": []
    },
    {
      "cell_type": "markdown",
      "source": [
        "# Pipeline 1 controller\n",
        "\n",
        "The controller runs jobs for the preceding three steps of the Generator and the Commentator."
      ],
      "metadata": {
        "id": "HVWBkfv0IZf7"
      }
    },
    {
      "cell_type": "code",
      "source": [
        "session_time = time.time()\n",
        "\n",
        "# Displaying the video\n",
        "print(\"Step 1: Collecting video\")\n",
        "file_name = \"skiing1.mp4\"\n",
        "print(f\"Video: {file_name}\")\n",
        "\n",
        "# Downloading the video\n",
        "print(\"Step 1: downloading from Github\")\n",
        "directory = \"Chapter10/videos\"\n",
        "download(directory, file_name)\n",
        "\n",
        "# Displaying video\n",
        "print(\"Step 1: displaying video\")\n",
        "display_video(file_name)\n",
        "\n",
        "# Splitting video\n",
        "print(\"Step 2: splitting the video into frames\")\n",
        "split_file(file_name)\n",
        "\n",
        "# Commenting on the video frames\n",
        "print(\"Step 3: commenting on the frames\")\n",
        "start_time = time.time()\n",
        "generate_openai_comments(file_name)\n",
        "response_time = time.time() - session_time"
      ],
      "metadata": {
        "colab": {
          "base_uri": "https://localhost:8080/"
        },
        "id": "N8nwp43QIevy",
        "outputId": "b0583692-63b3-4141-f49b-f9d0a2936aa9"
      },
      "execution_count": 21,
      "outputs": [
        {
          "output_type": "stream",
          "name": "stdout",
          "text": [
            "Step 1: Collecting video\n",
            "Video: skiing1.mp4\n",
            "Step 1: downloading from Github\n",
            "Downloaded 'skiing1.mp4' successfully.\n",
            "Step 1: displaying video\n",
            "Step 2: splitting the video into frames\n",
            "Frame 1 saved.\n",
            "Frame 2 saved.\n",
            "Frame 3 saved.\n",
            "Frame 4 saved.\n",
            "Frame 5 saved.\n",
            "Frame 6 saved.\n",
            "Frame 7 saved.\n",
            "Frame 8 saved.\n",
            "Frame 9 saved.\n",
            "Frame 10 saved.\n",
            "Frame 11 saved.\n",
            "Frame 12 saved.\n",
            "Frame 13 saved.\n",
            "Frame 14 saved.\n",
            "Frame 15 saved.\n",
            "Frame 16 saved.\n",
            "Frame 17 saved.\n",
            "Frame 18 saved.\n",
            "Frame 19 saved.\n",
            "Frame 20 saved.\n",
            "Frame 21 saved.\n",
            "Frame 22 saved.\n",
            "Frame 23 saved.\n",
            "Frame 24 saved.\n",
            "Frame 25 saved.\n",
            "Frame 26 saved.\n",
            "Frame 27 saved.\n",
            "Frame 28 saved.\n",
            "Frame 29 saved.\n",
            "Frame 30 saved.\n",
            "Frame 31 saved.\n",
            "Frame 32 saved.\n",
            "Frame 33 saved.\n",
            "Frame 34 saved.\n",
            "Frame 35 saved.\n",
            "Frame 36 saved.\n",
            "Frame 37 saved.\n",
            "Frame 38 saved.\n",
            "Frame 39 saved.\n",
            "Frame 40 saved.\n",
            "Frame 41 saved.\n",
            "Frame 42 saved.\n",
            "Frame 43 saved.\n",
            "Frame 44 saved.\n",
            "Frame 45 saved.\n",
            "Frame 46 saved.\n",
            "Frame 47 saved.\n",
            "Frame 48 saved.\n",
            "Frame 49 saved.\n",
            "Frame 50 saved.\n",
            "Frame 51 saved.\n",
            "Frame 52 saved.\n",
            "Frame 53 saved.\n",
            "Frame 54 saved.\n",
            "Frame 55 saved.\n",
            "Frame 56 saved.\n",
            "Frame 57 saved.\n",
            "Step 3: commenting on the frames\n",
            "Analyzing frame 2...\n",
            "Analyzing frame 5...\n",
            "Analyzing frame 8...\n",
            "Analyzing frame 11...\n",
            "Analyzing frame 14...\n",
            "Analyzing frame 17...\n",
            "Analyzing frame 20...\n",
            "Analyzing frame 23...\n",
            "Analyzing frame 26...\n",
            "Analyzing frame 29...\n",
            "Analyzing frame 32...\n",
            "Analyzing frame 35...\n",
            "Analyzing frame 38...\n",
            "Analyzing frame 41...\n",
            "Analyzing frame 44...\n",
            "Analyzing frame 47...\n",
            "Analyzing frame 50...\n",
            "Analyzing frame 53...\n",
            "Analyzing frame 56...\n"
          ]
        }
      ]
    },
    {
      "cell_type": "code",
      "source": [
        "video_folder = \"/content\"\n",
        "total_frames = len([file for file in os.listdir(video_folder) if file.endswith(\".jpg\")])\n",
        "print(total_frames)\n",
        "\n",
        "print(\"Commenting video: displaying comments.\")\n",
        "display_comments(file_name)\n",
        "\n",
        "total_time = time.time() - start_time\n",
        "print(f\"Response time: {response_time:.2f} seconds\")\n",
        "print(f\"Total time: {total_time:.2f} seconds\")"
      ],
      "metadata": {
        "id": "Bn5VYLFiTKnW",
        "colab": {
          "base_uri": "https://localhost:8080/"
        },
        "outputId": "792f542a-287b-4e63-f0e8-b7fce8564268"
      },
      "execution_count": 24,
      "outputs": [
        {
          "output_type": "stream",
          "name": "stdout",
          "text": [
            "57\n",
            "Commenting video: displaying comments.\n",
            "Response time: 70.70 seconds\n",
            "Total time: 205.44 seconds\n"
          ]
        }
      ]
    },
    {
      "cell_type": "markdown",
      "source": [
        "# Saving comments and frames"
      ],
      "metadata": {
        "id": "9oG8ASLPbbQo"
      }
    },
    {
      "cell_type": "code",
      "source": [
        "save=False\n",
        "save_frames=False\n",
        "\n",
        "if save:\n",
        "  cpath = f\"{file_name}.csv\"\n",
        "  if os.path.exists(cpath):\n",
        "    !cp {path} /content/drive/MyDrive/comments/{cpath}\n",
        "    print(f\"File {cpath} copied successfully.\")\n",
        "  else:\n",
        "    print(f\"No such file: {cpath}\")"
      ],
      "metadata": {
        "id": "szikVCvHbdPH"
      },
      "execution_count": 27,
      "outputs": []
    },
    {
      "cell_type": "code",
      "source": [
        "# Save frames\n",
        "import shutil\n",
        "\n",
        "if save_frames:\n",
        "  # Extract the root name by removing the extension\n",
        "  root_name, extension = os.path.splitext(file_name)\n",
        "\n",
        "  # This removes the period from the extension\n",
        "  root_name = root_name + extension.strip('.')\n",
        "\n",
        "  # path where you want to copy the jpg files\n",
        "  target_directory = f'/content/drive/MyDrive/comments/{root_name}'\n",
        "\n",
        "  # Ensure the directory exists\n",
        "  os.makedirs(target_directory, exist_ok=True)\n",
        "\n",
        "  # Assume your jpg files are in the current directory\n",
        "  source_directory = os.getcwd()\n",
        "\n",
        "  # list files in the source dir\n",
        "  for file in os.listdir(source_directory):\n",
        "    if file.endswith('.jpg'):\n",
        "      shutil.copy(os.path.join(source_directory, file), target_directory)"
      ],
      "metadata": {
        "id": "8wSjZY8jb0ko"
      },
      "execution_count": 28,
      "outputs": []
    },
    {
      "cell_type": "markdown",
      "source": [
        "# Deleting files"
      ],
      "metadata": {
        "id": "uNQB2pPFdpR4"
      }
    },
    {
      "cell_type": "code",
      "source": [
        "delf=False     # double checking before deleting the files in a session\n",
        "if delf==True:\n",
        "  !rm -f *.mp4 # video files\n",
        "  !rm -f *.jpg # frames\n",
        "  !rm -f *.csv # comments"
      ],
      "metadata": {
        "id": "4A2sABRccAKM"
      },
      "execution_count": 29,
      "outputs": []
    }
  ]
}