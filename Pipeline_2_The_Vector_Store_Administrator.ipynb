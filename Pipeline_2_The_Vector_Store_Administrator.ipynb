{
  "nbformat": 4,
  "nbformat_minor": 0,
  "metadata": {
    "colab": {
      "provenance": []
    },
    "kernelspec": {
      "name": "python3",
      "display_name": "Python 3"
    },
    "language_info": {
      "name": "python"
    }
  },
  "cells": [
    {
      "cell_type": "markdown",
      "source": [
        "# Installing the environment"
      ],
      "metadata": {
        "id": "hpPxRv3Lhujb"
      }
    },
    {
      "cell_type": "markdown",
      "source": [
        "## Importing modules and libraries\n"
      ],
      "metadata": {
        "id": "EY29WFr_hwcs"
      }
    },
    {
      "cell_type": "code",
      "execution_count": null,
      "metadata": {
        "id": "vUtAvG2FgfwP"
      },
      "outputs": [],
      "source": [
        "\n",
        "from IPython.display import HTML # to display videos\n",
        "import base64 # to encode videos as base64\n",
        "from base64 import b64encode # to encode videos as base64\n",
        "import os # to interact with the operating system\n",
        "import subprocess # to run commands\n",
        "import time # to measure execution time\n",
        "import csv # to save comments\n",
        "import uuid # to generate unique ids\n",
        "import cv2 # to split videos\n",
        "from PIL import Image # to display videos\n",
        "import pandas as pd # to display comments\n",
        "import numpy as np # to use Numerical Python\n",
        "from io import BytesIO #for a binary stream of data in memory\n"
      ]
    },
    {
      "cell_type": "markdown",
      "source": [
        "## GitHub"
      ],
      "metadata": {
        "id": "wUvyXXbJh0DM"
      }
    },
    {
      "cell_type": "code",
      "source": [
        "def download(directory, filename):\n",
        "    # The base URL of the image files in the GitHub repository\n",
        "    base_url = 'https://raw.githubusercontent.com/Denis2054/RAG-Driven-Generative-AI/main/'\n",
        "\n",
        "    # Complete URL for the file\n",
        "    file_url = f\"{base_url}{directory}/{filename}\"\n",
        "\n",
        "    # Use curl to download the file, including an Authorization header for the private token\n",
        "    try:\n",
        "        # Prepare the curl command\n",
        "        curl_command = f'curl -o {filename} {file_url}'\n",
        "\n",
        "        # Execute the curl command\n",
        "        subprocess.run(curl_command, check=True, shell=True)\n",
        "        print(f\"Downloaded '{filename}' successfully.\")\n",
        "    except subprocess.CalledProcessError:\n",
        "        print(f\"Failed to download '{filename}'. Check the URL, your internet connection and the file path\")"
      ],
      "metadata": {
        "id": "atgaNLSqht_k"
      },
      "execution_count": null,
      "outputs": []
    },
    {
      "cell_type": "markdown",
      "source": [
        "## OpenAI"
      ],
      "metadata": {
        "id": "tUWyHkWSh3-c"
      }
    },
    {
      "cell_type": "code",
      "source": [
        "#You can retrieve your API key from a file(1)\n",
        "# or enter it manually(2)\n",
        "#Comment this cell if you want to enter your key manually.\n",
        "\n",
        "#(1)Retrieve the API Key from a file\n",
        "#Store you key in a file and read it(you can type it directly in the notebook but it will be visible for somebody next to you)\n",
        "from google.colab import drive\n",
        "drive.mount('/content/drive')\n",
        "f = open(\"drive/MyDrive/api_key.txt\", \"r\")\n",
        "API_KEY=f.readline()\n",
        "f.close()"
      ],
      "metadata": {
        "colab": {
          "base_uri": "https://localhost:8080/"
        },
        "id": "3tQLSIeVh45c",
        "outputId": "e1224fb6-9731-4edb-944f-6e31571bbc13"
      },
      "execution_count": null,
      "outputs": [
        {
          "output_type": "stream",
          "name": "stdout",
          "text": [
            "Mounted at /content/drive\n"
          ]
        }
      ]
    },
    {
      "cell_type": "code",
      "source": [
        "try:\n",
        "  import openai\n",
        "except:\n",
        "  !pip install openai==1.45.0\n",
        "  import openai"
      ],
      "metadata": {
        "id": "cupfoNZvh62c"
      },
      "execution_count": null,
      "outputs": []
    },
    {
      "cell_type": "code",
      "source": [
        "os.environ['OPENAI_API_KEY'] =API_KEY\n",
        "openai.api_key = os.getenv(\"OPENAI_API_KEY\")"
      ],
      "metadata": {
        "id": "1D-E5-I6iB58"
      },
      "execution_count": null,
      "outputs": []
    },
    {
      "cell_type": "markdown",
      "source": [
        "## Pinecone"
      ],
      "metadata": {
        "id": "n5-X2R0JiCb0"
      }
    },
    {
      "cell_type": "code",
      "source": [
        "!pip install pinecone"
      ],
      "metadata": {
        "colab": {
          "base_uri": "https://localhost:8080/"
        },
        "id": "9jusuZQbiEEL",
        "outputId": "8c1da169-542d-4554-b460-1756662047f6"
      },
      "execution_count": null,
      "outputs": [
        {
          "output_type": "stream",
          "name": "stdout",
          "text": [
            "Collecting pinecone\n",
            "  Downloading pinecone-6.0.1-py3-none-any.whl.metadata (8.8 kB)\n",
            "Requirement already satisfied: certifi>=2019.11.17 in /usr/local/lib/python3.11/dist-packages (from pinecone) (2025.1.31)\n",
            "Collecting pinecone-plugin-interface<0.0.8,>=0.0.7 (from pinecone)\n",
            "  Downloading pinecone_plugin_interface-0.0.7-py3-none-any.whl.metadata (1.2 kB)\n",
            "Requirement already satisfied: python-dateutil>=2.5.3 in /usr/local/lib/python3.11/dist-packages (from pinecone) (2.8.2)\n",
            "Requirement already satisfied: typing-extensions>=3.7.4 in /usr/local/lib/python3.11/dist-packages (from pinecone) (4.12.2)\n",
            "Requirement already satisfied: urllib3>=1.26.0 in /usr/local/lib/python3.11/dist-packages (from pinecone) (2.3.0)\n",
            "Requirement already satisfied: six>=1.5 in /usr/local/lib/python3.11/dist-packages (from python-dateutil>=2.5.3->pinecone) (1.17.0)\n",
            "Downloading pinecone-6.0.1-py3-none-any.whl (421 kB)\n",
            "\u001b[2K   \u001b[90m━━━━━━━━━━━━━━━━━━━━━━━━━━━━━━━━━━━━━━━━\u001b[0m \u001b[32m421.4/421.4 kB\u001b[0m \u001b[31m8.7 MB/s\u001b[0m eta \u001b[36m0:00:00\u001b[0m\n",
            "\u001b[?25hDownloading pinecone_plugin_interface-0.0.7-py3-none-any.whl (6.2 kB)\n",
            "Installing collected packages: pinecone-plugin-interface, pinecone\n",
            "Successfully installed pinecone-6.0.1 pinecone-plugin-interface-0.0.7\n"
          ]
        }
      ]
    },
    {
      "cell_type": "code",
      "source": [
        "import pinecone"
      ],
      "metadata": {
        "id": "LltRxVmjiIL8"
      },
      "execution_count": null,
      "outputs": []
    },
    {
      "cell_type": "code",
      "source": [
        "f = open(\"drive/MyDrive/pinecone.txt\", \"r\")\n",
        "PINECONE_API_KEY=f.readline()\n",
        "f.close()\n",
        "os.environ['PINECONE_API_KEY'] = PINECONE_API_KEY\n"
      ],
      "metadata": {
        "id": "AvGjJS9GiJ4s"
      },
      "execution_count": null,
      "outputs": []
    },
    {
      "cell_type": "markdown",
      "source": [
        "# Processing the video comments"
      ],
      "metadata": {
        "id": "WYW9A_6viYyU"
      }
    },
    {
      "cell_type": "code",
      "source": [
        "lfiles = [\n",
        "    \"jogging1.mp4.csv\",\n",
        "    \"jogging2.mp4.csv\",\n",
        "    \"skiing1.mp4.csv\",\n",
        "    \"soccer_pass.mp4.csv\",\n",
        "    \"soccer_player_head.mp4.csv\",\n",
        "    \"soccer_player_running.mp4.csv\",\n",
        "    \"surfer1.mp4.csv\",\n",
        "    \"surfer2.mp4.csv\",\n",
        "    \"swimming1.mp4.csv\",\n",
        "    \"walking1.mp4.csv\",\n",
        "    \"alpinist1.csv\",\n",
        "    \"ball_passing_goal.mp4.csv\",\n",
        "    \"basketball1.mp4.csv\",\n",
        "    \"basketball2.mp4.csv\",\n",
        "    \"basketball3.mp4.csv\",\n",
        "    \"basketball4.mp4.csv\",\n",
        "    \"basketball5.mp4.csv\",\n",
        "    \"female_player_after_scoring.mp4.csv\",\n",
        "    \"football1.mp4.csv\",\n",
        "    \"football2.mp4.csv\",\n",
        "    \"hockey1.mp4.csv\"\n",
        "]"
      ],
      "metadata": {
        "id": "ftcumoeuiamU"
      },
      "execution_count": null,
      "outputs": []
    },
    {
      "cell_type": "code",
      "source": [
        "!rm -f *.csv # comments"
      ],
      "metadata": {
        "id": "NXhlzVzZicvs"
      },
      "execution_count": null,
      "outputs": []
    },
    {
      "cell_type": "code",
      "source": [
        "lf=len(lfiles)\n",
        "print(lf)"
      ],
      "metadata": {
        "colab": {
          "base_uri": "https://localhost:8080/"
        },
        "id": "9lnOQn1OieY8",
        "outputId": "3d3be6bb-beb4-46be-8722-a8f070efb028"
      },
      "execution_count": null,
      "outputs": [
        {
          "output_type": "stream",
          "name": "stdout",
          "text": [
            "21\n"
          ]
        }
      ]
    },
    {
      "cell_type": "code",
      "source": [
        "# Define your variables\n",
        "directory = \"Chapter10/comments\"\n",
        "for i in range(lf):\n",
        "  file_name=lfiles[i]\n",
        "  print(file_name)\n",
        "  download(directory,file_name)"
      ],
      "metadata": {
        "colab": {
          "base_uri": "https://localhost:8080/"
        },
        "id": "Sne8GwGAihg0",
        "outputId": "1b221e0b-64cc-43d2-b5e5-8ea42ae4943c"
      },
      "execution_count": null,
      "outputs": [
        {
          "output_type": "stream",
          "name": "stdout",
          "text": [
            "jogging1.mp4.csv\n",
            "Downloaded 'jogging1.mp4.csv' successfully.\n",
            "jogging2.mp4.csv\n",
            "Downloaded 'jogging2.mp4.csv' successfully.\n",
            "skiing1.mp4.csv\n",
            "Downloaded 'skiing1.mp4.csv' successfully.\n",
            "soccer_pass.mp4.csv\n",
            "Downloaded 'soccer_pass.mp4.csv' successfully.\n",
            "soccer_player_head.mp4.csv\n",
            "Downloaded 'soccer_player_head.mp4.csv' successfully.\n",
            "soccer_player_running.mp4.csv\n",
            "Downloaded 'soccer_player_running.mp4.csv' successfully.\n",
            "surfer1.mp4.csv\n",
            "Downloaded 'surfer1.mp4.csv' successfully.\n",
            "surfer2.mp4.csv\n",
            "Downloaded 'surfer2.mp4.csv' successfully.\n",
            "swimming1.mp4.csv\n",
            "Downloaded 'swimming1.mp4.csv' successfully.\n",
            "walking1.mp4.csv\n",
            "Downloaded 'walking1.mp4.csv' successfully.\n",
            "alpinist1.csv\n",
            "Downloaded 'alpinist1.csv' successfully.\n",
            "ball_passing_goal.mp4.csv\n",
            "Downloaded 'ball_passing_goal.mp4.csv' successfully.\n",
            "basketball1.mp4.csv\n",
            "Downloaded 'basketball1.mp4.csv' successfully.\n",
            "basketball2.mp4.csv\n",
            "Downloaded 'basketball2.mp4.csv' successfully.\n",
            "basketball3.mp4.csv\n",
            "Downloaded 'basketball3.mp4.csv' successfully.\n",
            "basketball4.mp4.csv\n",
            "Downloaded 'basketball4.mp4.csv' successfully.\n",
            "basketball5.mp4.csv\n",
            "Downloaded 'basketball5.mp4.csv' successfully.\n",
            "female_player_after_scoring.mp4.csv\n",
            "Downloaded 'female_player_after_scoring.mp4.csv' successfully.\n",
            "football1.mp4.csv\n",
            "Downloaded 'football1.mp4.csv' successfully.\n",
            "football2.mp4.csv\n",
            "Downloaded 'football2.mp4.csv' successfully.\n",
            "hockey1.mp4.csv\n",
            "Downloaded 'hockey1.mp4.csv' successfully.\n"
          ]
        }
      ]
    },
    {
      "cell_type": "code",
      "source": [
        "directory = \"/content/\"\n",
        "\n",
        "column_names = ['ID', 'FrameNumber', 'Comment', 'FileName']\n",
        "df_list = []\n",
        "\n",
        "for file in lfiles:\n",
        "  file_path = os.path.join(directory, file)\n",
        "  try:\n",
        "    df_temp = pd.read_csv(file_path, names=column_names, header=None)\n",
        "    df_list.append(df_temp)\n",
        "  except pd.errors.EmptyDataError:\n",
        "    print(f\"No data in {file}. File is skipped.\")\n",
        "  except pd.errors.ParserError:\n",
        "    print(f\"Parsing error in {file}. Check file format. File is skipped.\")\n",
        "  except Exception as e:\n",
        "    print(f\"An error occurred with {file}: {e}\")\n",
        "\n",
        "dfl = pd.concat(df_list, ignore_index=True)\n",
        "\n",
        "dfl"
      ],
      "metadata": {
        "colab": {
          "base_uri": "https://localhost:8080/",
          "height": 580
        },
        "id": "2_yfV72ymJx1",
        "outputId": "e9dfe9dc-a810-420a-d2a3-b6933fe731cc"
      },
      "execution_count": null,
      "outputs": [
        {
          "output_type": "execute_result",
          "data": {
            "text/plain": [
              "                                       ID  FrameNumber  \\\n",
              "0                                      ID  FrameNumber   \n",
              "1    c6850e1f-9a20-4b44-96b3-9b75ae3a603d            3   \n",
              "2    046b105b-4f94-420f-b66b-5af70bd02ac5            7   \n",
              "3    b56e343b-8427-4c74-8fd5-9d10895b9e1f           11   \n",
              "4    556604cd-d4d9-4476-89b4-8659b1670c74           15   \n",
              "..                                    ...          ...   \n",
              "838  5a630329-6ed2-49e1-953a-a620c718cd9d          135   \n",
              "839  918eda74-7234-4a5b-8262-e37e7e4ebb3d          139   \n",
              "840  0e498059-43e8-4f57-bf08-69542e060573          143   \n",
              "841  01355e9e-6f42-446e-9329-fb7eb9e1fe33          147   \n",
              "842  7e38964d-e98a-4813-8a6f-126b0ae04b72          151   \n",
              "\n",
              "                                               Comment      FileName  \n",
              "0                                              Comment      FileName  \n",
              "1    This image shows two individuals walking on a ...  jogging1.mp4  \n",
              "2    The image shows a forested area with tall tree...  jogging1.mp4  \n",
              "3    In the image, there is a person who appears to...  jogging1.mp4  \n",
              "4    The image shows a person walking on a path thr...  jogging1.mp4  \n",
              "..                                                 ...           ...  \n",
              "838  In the image, there is a group of American foo...   hockey1.mp4  \n",
              "839  This image shows a scene of American football ...   hockey1.mp4  \n",
              "840  In this image, we see a group of American foot...   hockey1.mp4  \n",
              "841  This image shows a group of people playing Ame...   hockey1.mp4  \n",
              "842  This image captures a moment from an American ...   hockey1.mp4  \n",
              "\n",
              "[843 rows x 4 columns]"
            ],
            "text/html": [
              "\n",
              "  <div id=\"df-9289c067-0060-4fdd-8c5d-29a9ae35b598\" class=\"colab-df-container\">\n",
              "    <div>\n",
              "<style scoped>\n",
              "    .dataframe tbody tr th:only-of-type {\n",
              "        vertical-align: middle;\n",
              "    }\n",
              "\n",
              "    .dataframe tbody tr th {\n",
              "        vertical-align: top;\n",
              "    }\n",
              "\n",
              "    .dataframe thead th {\n",
              "        text-align: right;\n",
              "    }\n",
              "</style>\n",
              "<table border=\"1\" class=\"dataframe\">\n",
              "  <thead>\n",
              "    <tr style=\"text-align: right;\">\n",
              "      <th></th>\n",
              "      <th>ID</th>\n",
              "      <th>FrameNumber</th>\n",
              "      <th>Comment</th>\n",
              "      <th>FileName</th>\n",
              "    </tr>\n",
              "  </thead>\n",
              "  <tbody>\n",
              "    <tr>\n",
              "      <th>0</th>\n",
              "      <td>ID</td>\n",
              "      <td>FrameNumber</td>\n",
              "      <td>Comment</td>\n",
              "      <td>FileName</td>\n",
              "    </tr>\n",
              "    <tr>\n",
              "      <th>1</th>\n",
              "      <td>c6850e1f-9a20-4b44-96b3-9b75ae3a603d</td>\n",
              "      <td>3</td>\n",
              "      <td>This image shows two individuals walking on a ...</td>\n",
              "      <td>jogging1.mp4</td>\n",
              "    </tr>\n",
              "    <tr>\n",
              "      <th>2</th>\n",
              "      <td>046b105b-4f94-420f-b66b-5af70bd02ac5</td>\n",
              "      <td>7</td>\n",
              "      <td>The image shows a forested area with tall tree...</td>\n",
              "      <td>jogging1.mp4</td>\n",
              "    </tr>\n",
              "    <tr>\n",
              "      <th>3</th>\n",
              "      <td>b56e343b-8427-4c74-8fd5-9d10895b9e1f</td>\n",
              "      <td>11</td>\n",
              "      <td>In the image, there is a person who appears to...</td>\n",
              "      <td>jogging1.mp4</td>\n",
              "    </tr>\n",
              "    <tr>\n",
              "      <th>4</th>\n",
              "      <td>556604cd-d4d9-4476-89b4-8659b1670c74</td>\n",
              "      <td>15</td>\n",
              "      <td>The image shows a person walking on a path thr...</td>\n",
              "      <td>jogging1.mp4</td>\n",
              "    </tr>\n",
              "    <tr>\n",
              "      <th>...</th>\n",
              "      <td>...</td>\n",
              "      <td>...</td>\n",
              "      <td>...</td>\n",
              "      <td>...</td>\n",
              "    </tr>\n",
              "    <tr>\n",
              "      <th>838</th>\n",
              "      <td>5a630329-6ed2-49e1-953a-a620c718cd9d</td>\n",
              "      <td>135</td>\n",
              "      <td>In the image, there is a group of American foo...</td>\n",
              "      <td>hockey1.mp4</td>\n",
              "    </tr>\n",
              "    <tr>\n",
              "      <th>839</th>\n",
              "      <td>918eda74-7234-4a5b-8262-e37e7e4ebb3d</td>\n",
              "      <td>139</td>\n",
              "      <td>This image shows a scene of American football ...</td>\n",
              "      <td>hockey1.mp4</td>\n",
              "    </tr>\n",
              "    <tr>\n",
              "      <th>840</th>\n",
              "      <td>0e498059-43e8-4f57-bf08-69542e060573</td>\n",
              "      <td>143</td>\n",
              "      <td>In this image, we see a group of American foot...</td>\n",
              "      <td>hockey1.mp4</td>\n",
              "    </tr>\n",
              "    <tr>\n",
              "      <th>841</th>\n",
              "      <td>01355e9e-6f42-446e-9329-fb7eb9e1fe33</td>\n",
              "      <td>147</td>\n",
              "      <td>This image shows a group of people playing Ame...</td>\n",
              "      <td>hockey1.mp4</td>\n",
              "    </tr>\n",
              "    <tr>\n",
              "      <th>842</th>\n",
              "      <td>7e38964d-e98a-4813-8a6f-126b0ae04b72</td>\n",
              "      <td>151</td>\n",
              "      <td>This image captures a moment from an American ...</td>\n",
              "      <td>hockey1.mp4</td>\n",
              "    </tr>\n",
              "  </tbody>\n",
              "</table>\n",
              "<p>843 rows × 4 columns</p>\n",
              "</div>\n",
              "    <div class=\"colab-df-buttons\">\n",
              "\n",
              "  <div class=\"colab-df-container\">\n",
              "    <button class=\"colab-df-convert\" onclick=\"convertToInteractive('df-9289c067-0060-4fdd-8c5d-29a9ae35b598')\"\n",
              "            title=\"Convert this dataframe to an interactive table.\"\n",
              "            style=\"display:none;\">\n",
              "\n",
              "  <svg xmlns=\"http://www.w3.org/2000/svg\" height=\"24px\" viewBox=\"0 -960 960 960\">\n",
              "    <path d=\"M120-120v-720h720v720H120Zm60-500h600v-160H180v160Zm220 220h160v-160H400v160Zm0 220h160v-160H400v160ZM180-400h160v-160H180v160Zm440 0h160v-160H620v160ZM180-180h160v-160H180v160Zm440 0h160v-160H620v160Z\"/>\n",
              "  </svg>\n",
              "    </button>\n",
              "\n",
              "  <style>\n",
              "    .colab-df-container {\n",
              "      display:flex;\n",
              "      gap: 12px;\n",
              "    }\n",
              "\n",
              "    .colab-df-convert {\n",
              "      background-color: #E8F0FE;\n",
              "      border: none;\n",
              "      border-radius: 50%;\n",
              "      cursor: pointer;\n",
              "      display: none;\n",
              "      fill: #1967D2;\n",
              "      height: 32px;\n",
              "      padding: 0 0 0 0;\n",
              "      width: 32px;\n",
              "    }\n",
              "\n",
              "    .colab-df-convert:hover {\n",
              "      background-color: #E2EBFA;\n",
              "      box-shadow: 0px 1px 2px rgba(60, 64, 67, 0.3), 0px 1px 3px 1px rgba(60, 64, 67, 0.15);\n",
              "      fill: #174EA6;\n",
              "    }\n",
              "\n",
              "    .colab-df-buttons div {\n",
              "      margin-bottom: 4px;\n",
              "    }\n",
              "\n",
              "    [theme=dark] .colab-df-convert {\n",
              "      background-color: #3B4455;\n",
              "      fill: #D2E3FC;\n",
              "    }\n",
              "\n",
              "    [theme=dark] .colab-df-convert:hover {\n",
              "      background-color: #434B5C;\n",
              "      box-shadow: 0px 1px 3px 1px rgba(0, 0, 0, 0.15);\n",
              "      filter: drop-shadow(0px 1px 2px rgba(0, 0, 0, 0.3));\n",
              "      fill: #FFFFFF;\n",
              "    }\n",
              "  </style>\n",
              "\n",
              "    <script>\n",
              "      const buttonEl =\n",
              "        document.querySelector('#df-9289c067-0060-4fdd-8c5d-29a9ae35b598 button.colab-df-convert');\n",
              "      buttonEl.style.display =\n",
              "        google.colab.kernel.accessAllowed ? 'block' : 'none';\n",
              "\n",
              "      async function convertToInteractive(key) {\n",
              "        const element = document.querySelector('#df-9289c067-0060-4fdd-8c5d-29a9ae35b598');\n",
              "        const dataTable =\n",
              "          await google.colab.kernel.invokeFunction('convertToInteractive',\n",
              "                                                    [key], {});\n",
              "        if (!dataTable) return;\n",
              "\n",
              "        const docLinkHtml = 'Like what you see? Visit the ' +\n",
              "          '<a target=\"_blank\" href=https://colab.research.google.com/notebooks/data_table.ipynb>data table notebook</a>'\n",
              "          + ' to learn more about interactive tables.';\n",
              "        element.innerHTML = '';\n",
              "        dataTable['output_type'] = 'display_data';\n",
              "        await google.colab.output.renderOutput(dataTable, element);\n",
              "        const docLink = document.createElement('div');\n",
              "        docLink.innerHTML = docLinkHtml;\n",
              "        element.appendChild(docLink);\n",
              "      }\n",
              "    </script>\n",
              "  </div>\n",
              "\n",
              "\n",
              "<div id=\"df-f0eb46ce-bc4f-44cb-b2bb-b9aa8eaac194\">\n",
              "  <button class=\"colab-df-quickchart\" onclick=\"quickchart('df-f0eb46ce-bc4f-44cb-b2bb-b9aa8eaac194')\"\n",
              "            title=\"Suggest charts\"\n",
              "            style=\"display:none;\">\n",
              "\n",
              "<svg xmlns=\"http://www.w3.org/2000/svg\" height=\"24px\"viewBox=\"0 0 24 24\"\n",
              "     width=\"24px\">\n",
              "    <g>\n",
              "        <path d=\"M19 3H5c-1.1 0-2 .9-2 2v14c0 1.1.9 2 2 2h14c1.1 0 2-.9 2-2V5c0-1.1-.9-2-2-2zM9 17H7v-7h2v7zm4 0h-2V7h2v10zm4 0h-2v-4h2v4z\"/>\n",
              "    </g>\n",
              "</svg>\n",
              "  </button>\n",
              "\n",
              "<style>\n",
              "  .colab-df-quickchart {\n",
              "      --bg-color: #E8F0FE;\n",
              "      --fill-color: #1967D2;\n",
              "      --hover-bg-color: #E2EBFA;\n",
              "      --hover-fill-color: #174EA6;\n",
              "      --disabled-fill-color: #AAA;\n",
              "      --disabled-bg-color: #DDD;\n",
              "  }\n",
              "\n",
              "  [theme=dark] .colab-df-quickchart {\n",
              "      --bg-color: #3B4455;\n",
              "      --fill-color: #D2E3FC;\n",
              "      --hover-bg-color: #434B5C;\n",
              "      --hover-fill-color: #FFFFFF;\n",
              "      --disabled-bg-color: #3B4455;\n",
              "      --disabled-fill-color: #666;\n",
              "  }\n",
              "\n",
              "  .colab-df-quickchart {\n",
              "    background-color: var(--bg-color);\n",
              "    border: none;\n",
              "    border-radius: 50%;\n",
              "    cursor: pointer;\n",
              "    display: none;\n",
              "    fill: var(--fill-color);\n",
              "    height: 32px;\n",
              "    padding: 0;\n",
              "    width: 32px;\n",
              "  }\n",
              "\n",
              "  .colab-df-quickchart:hover {\n",
              "    background-color: var(--hover-bg-color);\n",
              "    box-shadow: 0 1px 2px rgba(60, 64, 67, 0.3), 0 1px 3px 1px rgba(60, 64, 67, 0.15);\n",
              "    fill: var(--button-hover-fill-color);\n",
              "  }\n",
              "\n",
              "  .colab-df-quickchart-complete:disabled,\n",
              "  .colab-df-quickchart-complete:disabled:hover {\n",
              "    background-color: var(--disabled-bg-color);\n",
              "    fill: var(--disabled-fill-color);\n",
              "    box-shadow: none;\n",
              "  }\n",
              "\n",
              "  .colab-df-spinner {\n",
              "    border: 2px solid var(--fill-color);\n",
              "    border-color: transparent;\n",
              "    border-bottom-color: var(--fill-color);\n",
              "    animation:\n",
              "      spin 1s steps(1) infinite;\n",
              "  }\n",
              "\n",
              "  @keyframes spin {\n",
              "    0% {\n",
              "      border-color: transparent;\n",
              "      border-bottom-color: var(--fill-color);\n",
              "      border-left-color: var(--fill-color);\n",
              "    }\n",
              "    20% {\n",
              "      border-color: transparent;\n",
              "      border-left-color: var(--fill-color);\n",
              "      border-top-color: var(--fill-color);\n",
              "    }\n",
              "    30% {\n",
              "      border-color: transparent;\n",
              "      border-left-color: var(--fill-color);\n",
              "      border-top-color: var(--fill-color);\n",
              "      border-right-color: var(--fill-color);\n",
              "    }\n",
              "    40% {\n",
              "      border-color: transparent;\n",
              "      border-right-color: var(--fill-color);\n",
              "      border-top-color: var(--fill-color);\n",
              "    }\n",
              "    60% {\n",
              "      border-color: transparent;\n",
              "      border-right-color: var(--fill-color);\n",
              "    }\n",
              "    80% {\n",
              "      border-color: transparent;\n",
              "      border-right-color: var(--fill-color);\n",
              "      border-bottom-color: var(--fill-color);\n",
              "    }\n",
              "    90% {\n",
              "      border-color: transparent;\n",
              "      border-bottom-color: var(--fill-color);\n",
              "    }\n",
              "  }\n",
              "</style>\n",
              "\n",
              "  <script>\n",
              "    async function quickchart(key) {\n",
              "      const quickchartButtonEl =\n",
              "        document.querySelector('#' + key + ' button');\n",
              "      quickchartButtonEl.disabled = true;  // To prevent multiple clicks.\n",
              "      quickchartButtonEl.classList.add('colab-df-spinner');\n",
              "      try {\n",
              "        const charts = await google.colab.kernel.invokeFunction(\n",
              "            'suggestCharts', [key], {});\n",
              "      } catch (error) {\n",
              "        console.error('Error during call to suggestCharts:', error);\n",
              "      }\n",
              "      quickchartButtonEl.classList.remove('colab-df-spinner');\n",
              "      quickchartButtonEl.classList.add('colab-df-quickchart-complete');\n",
              "    }\n",
              "    (() => {\n",
              "      let quickchartButtonEl =\n",
              "        document.querySelector('#df-f0eb46ce-bc4f-44cb-b2bb-b9aa8eaac194 button');\n",
              "      quickchartButtonEl.style.display =\n",
              "        google.colab.kernel.accessAllowed ? 'block' : 'none';\n",
              "    })();\n",
              "  </script>\n",
              "</div>\n",
              "\n",
              "  <div id=\"id_f7b90498-6826-4fa0-962c-06d9d3ccc522\">\n",
              "    <style>\n",
              "      .colab-df-generate {\n",
              "        background-color: #E8F0FE;\n",
              "        border: none;\n",
              "        border-radius: 50%;\n",
              "        cursor: pointer;\n",
              "        display: none;\n",
              "        fill: #1967D2;\n",
              "        height: 32px;\n",
              "        padding: 0 0 0 0;\n",
              "        width: 32px;\n",
              "      }\n",
              "\n",
              "      .colab-df-generate:hover {\n",
              "        background-color: #E2EBFA;\n",
              "        box-shadow: 0px 1px 2px rgba(60, 64, 67, 0.3), 0px 1px 3px 1px rgba(60, 64, 67, 0.15);\n",
              "        fill: #174EA6;\n",
              "      }\n",
              "\n",
              "      [theme=dark] .colab-df-generate {\n",
              "        background-color: #3B4455;\n",
              "        fill: #D2E3FC;\n",
              "      }\n",
              "\n",
              "      [theme=dark] .colab-df-generate:hover {\n",
              "        background-color: #434B5C;\n",
              "        box-shadow: 0px 1px 3px 1px rgba(0, 0, 0, 0.15);\n",
              "        filter: drop-shadow(0px 1px 2px rgba(0, 0, 0, 0.3));\n",
              "        fill: #FFFFFF;\n",
              "      }\n",
              "    </style>\n",
              "    <button class=\"colab-df-generate\" onclick=\"generateWithVariable('dfl')\"\n",
              "            title=\"Generate code using this dataframe.\"\n",
              "            style=\"display:none;\">\n",
              "\n",
              "  <svg xmlns=\"http://www.w3.org/2000/svg\" height=\"24px\"viewBox=\"0 0 24 24\"\n",
              "       width=\"24px\">\n",
              "    <path d=\"M7,19H8.4L18.45,9,17,7.55,7,17.6ZM5,21V16.75L18.45,3.32a2,2,0,0,1,2.83,0l1.4,1.43a1.91,1.91,0,0,1,.58,1.4,1.91,1.91,0,0,1-.58,1.4L9.25,21ZM18.45,9,17,7.55Zm-12,3A5.31,5.31,0,0,0,4.9,8.1,5.31,5.31,0,0,0,1,6.5,5.31,5.31,0,0,0,4.9,4.9,5.31,5.31,0,0,0,6.5,1,5.31,5.31,0,0,0,8.1,4.9,5.31,5.31,0,0,0,12,6.5,5.46,5.46,0,0,0,6.5,12Z\"/>\n",
              "  </svg>\n",
              "    </button>\n",
              "    <script>\n",
              "      (() => {\n",
              "      const buttonEl =\n",
              "        document.querySelector('#id_f7b90498-6826-4fa0-962c-06d9d3ccc522 button.colab-df-generate');\n",
              "      buttonEl.style.display =\n",
              "        google.colab.kernel.accessAllowed ? 'block' : 'none';\n",
              "\n",
              "      buttonEl.onclick = () => {\n",
              "        google.colab.notebook.generateWithVariable('dfl');\n",
              "      }\n",
              "      })();\n",
              "    </script>\n",
              "  </div>\n",
              "\n",
              "    </div>\n",
              "  </div>\n"
            ],
            "application/vnd.google.colaboratory.intrinsic+json": {
              "type": "dataframe",
              "variable_name": "dfl",
              "summary": "{\n  \"name\": \"dfl\",\n  \"rows\": 843,\n  \"fields\": [\n    {\n      \"column\": \"ID\",\n      \"properties\": {\n        \"dtype\": \"string\",\n        \"num_unique_values\": 824,\n        \"samples\": [\n          \"78fc21bb-d398-4a07-8426-47169504efdf\",\n          \"efbc4d98-187d-464a-a636-d54857a9fe3a\",\n          \"80f42261-0aa3-4ec4-a8ad-2f621cba4445\"\n        ],\n        \"semantic_type\": \"\",\n        \"description\": \"\"\n      }\n    },\n    {\n      \"column\": \"FrameNumber\",\n      \"properties\": {\n        \"dtype\": \"category\",\n        \"num_unique_values\": 96,\n        \"samples\": [\n          \"319\",\n          \"307\",\n          \"291\"\n        ],\n        \"semantic_type\": \"\",\n        \"description\": \"\"\n      }\n    },\n    {\n      \"column\": \"Comment\",\n      \"properties\": {\n        \"dtype\": \"string\",\n        \"num_unique_values\": 823,\n        \"samples\": [\n          \"In the image, there is a person standing on an outdoor basketball court. The individual appears to be posing or at rest as opposed to actively playing a sport. The context of the image does not provide specific details about what the person is doing other than standing and facing the camera. The word \\\"seconds!\\\" with an exclamation mark is superimposed onto the image, which suggests that the image might be taken from a video or a context where time is an important factor, perhaps indicating that something has occurred or is expected to occur within a certain number of seconds. However, without additional context, it is unclear what the significance of \\\"seconds!\\\" is in this scenario.\",\n          \"The image shows the lower body of a person wearing red shorts who appears to be in the middle of running or jogging. The motion is captured with a focus on the legs, indicating movement. The background is blurred, suggesting that the photo was taken with a focus on the action, emphasizing the dynamic nature of the activity. The word \\\"for\\\" is superimposed over the image, but without more context, it is not clear what its relevance is \\u2013 it may be part of a sentence or message that is not fully visible.\",\n          \"In the image, there is a woman who appears to be looking down at something in her hands, although what she is looking at is not visible in the photo. She has earphones in her ears, suggesting she may be listening to audio from a connected device. Her expression is one of focus or concentration. The word \\\"Keep\\\" is overlaid on the image, but its relevance to the scene is not clear without additional context. The setting looks outdoors, potentially in a residential area with greenery in the background.\"\n        ],\n        \"semantic_type\": \"\",\n        \"description\": \"\"\n      }\n    },\n    {\n      \"column\": \"FileName\",\n      \"properties\": {\n        \"dtype\": \"category\",\n        \"num_unique_values\": 21,\n        \"samples\": [\n          \"FileName\",\n          \"female_player_after_scoring.mp4\",\n          \"basketball4.mp4\"\n        ],\n        \"semantic_type\": \"\",\n        \"description\": \"\"\n      }\n    }\n  ]\n}"
            }
          },
          "metadata": {},
          "execution_count": 13
        }
      ]
    },
    {
      "cell_type": "code",
      "source": [
        "number_of_lines = len(dfl)\n",
        "print(\"Number of lines: \", number_of_lines)"
      ],
      "metadata": {
        "colab": {
          "base_uri": "https://localhost:8080/"
        },
        "id": "599LWwkzmpX1",
        "outputId": "a826e145-84e8-487f-c75c-12f51555d85e"
      },
      "execution_count": null,
      "outputs": [
        {
          "output_type": "stream",
          "name": "stdout",
          "text": [
            "Number of lines:  843\n"
          ]
        }
      ]
    },
    {
      "cell_type": "code",
      "source": [
        "df = dfl.dropna()"
      ],
      "metadata": {
        "id": "NcX9slCPmuul"
      },
      "execution_count": null,
      "outputs": []
    },
    {
      "cell_type": "code",
      "source": [
        "# Count the lines\n",
        "number_of_lines = len(df)\n",
        "print(\"Number of lines: \",number_of_lines)"
      ],
      "metadata": {
        "colab": {
          "base_uri": "https://localhost:8080/"
        },
        "id": "G3M20fCzmxTt",
        "outputId": "4302531b-63fb-4341-fa10-94ba49188a9c"
      },
      "execution_count": null,
      "outputs": [
        {
          "output_type": "stream",
          "name": "stdout",
          "text": [
            "Number of lines:  842\n"
          ]
        }
      ]
    },
    {
      "cell_type": "code",
      "source": [
        "df.info()"
      ],
      "metadata": {
        "colab": {
          "base_uri": "https://localhost:8080/"
        },
        "id": "31oQfjdbmyaN",
        "outputId": "f5b54d2e-1b35-43f3-c577-4d24b760f0e9"
      },
      "execution_count": null,
      "outputs": [
        {
          "output_type": "stream",
          "name": "stdout",
          "text": [
            "<class 'pandas.core.frame.DataFrame'>\n",
            "Index: 842 entries, 0 to 842\n",
            "Data columns (total 4 columns):\n",
            " #   Column       Non-Null Count  Dtype \n",
            "---  ------       --------------  ----- \n",
            " 0   ID           842 non-null    object\n",
            " 1   FrameNumber  842 non-null    object\n",
            " 2   Comment      842 non-null    object\n",
            " 3   FileName     842 non-null    object\n",
            "dtypes: object(4)\n",
            "memory usage: 32.9+ KB\n"
          ]
        }
      ]
    },
    {
      "cell_type": "markdown",
      "source": [
        "# Chunking and embedding the dataset"
      ],
      "metadata": {
        "id": "XkTtUhFdm0q9"
      }
    },
    {
      "cell_type": "markdown",
      "source": [
        "## Chunking"
      ],
      "metadata": {
        "id": "M_LZoQbUm3CN"
      }
    },
    {
      "cell_type": "code",
      "source": [
        "chunks = []\n",
        "\n",
        "for index, row in df.iterrows():\n",
        "  chunks.append(row['Comment']) # Each 'Comment' becomes its own chunk\n",
        "\n",
        "print(f\"Total num of chunks: {len(chunks)}\")"
      ],
      "metadata": {
        "colab": {
          "base_uri": "https://localhost:8080/"
        },
        "id": "-Jpx_Zdpm2d9",
        "outputId": "84427e56-c327-4058-b0c1-1d1f3a2fb7dd"
      },
      "execution_count": null,
      "outputs": [
        {
          "output_type": "stream",
          "name": "stdout",
          "text": [
            "Total num of chunks: 842\n"
          ]
        }
      ]
    },
    {
      "cell_type": "code",
      "source": [
        "# Print the length and content of the first 3 chunks\n",
        "for i in range(3):\n",
        "    print(len(chunks[i]))\n",
        "    print(chunks[i])"
      ],
      "metadata": {
        "colab": {
          "base_uri": "https://localhost:8080/"
        },
        "id": "U--jBHVSn4W2",
        "outputId": "59fe2486-92a6-4177-c533-f5e0a6ce986a"
      },
      "execution_count": null,
      "outputs": [
        {
          "output_type": "stream",
          "name": "stdout",
          "text": [
            "7\n",
            "Comment\n",
            "463\n",
            "This image shows two individuals walking on a dirt pathway through a wooded area. The foliage is dense on either side of the path, suggesting a natural, forested setting. The word \"your\" is superimposed on the image, which could imply that this is a frame from a video or a part of a series of images that conveys a message or a story. The scene appears calm, with no clear indications of the activity or mood of the persons, besides enjoying a walk in the woods.\n",
            "436\n",
            "The image shows a forested area with tall trees and dense foliage. A dirt path leads through the forest, and there is a person visible walking along the path in the distance. The word \"your\" is overlaid on the image, which suggests that this might be a frame from a video that is conveying a message, perhaps part of a sentence that continues beyond this single frame. It looks peaceful and suggests an outdoor or nature-themed setting.\n"
          ]
        }
      ]
    },
    {
      "cell_type": "code",
      "source": [
        "# convert the list of chunks to a DataFrame\n",
        "cdf = pd.DataFrame(chunks, columns=['Chunk'])\n",
        "cdf"
      ],
      "metadata": {
        "colab": {
          "base_uri": "https://localhost:8080/",
          "height": 424
        },
        "id": "Q1ZKlX-Jn64l",
        "outputId": "60175b4d-2356-4038-a399-2bcc7f16f3d7"
      },
      "execution_count": null,
      "outputs": [
        {
          "output_type": "execute_result",
          "data": {
            "text/plain": [
              "                                                 Chunk\n",
              "0                                              Comment\n",
              "1    This image shows two individuals walking on a ...\n",
              "2    The image shows a forested area with tall tree...\n",
              "3    In the image, there is a person who appears to...\n",
              "4    The image shows a person walking on a path thr...\n",
              "..                                                 ...\n",
              "837  In the image, there is a group of American foo...\n",
              "838  This image shows a scene of American football ...\n",
              "839  In this image, we see a group of American foot...\n",
              "840  This image shows a group of people playing Ame...\n",
              "841  This image captures a moment from an American ...\n",
              "\n",
              "[842 rows x 1 columns]"
            ],
            "text/html": [
              "\n",
              "  <div id=\"df-b74b0f08-cf71-4ad0-9b10-855950a44d3f\" class=\"colab-df-container\">\n",
              "    <div>\n",
              "<style scoped>\n",
              "    .dataframe tbody tr th:only-of-type {\n",
              "        vertical-align: middle;\n",
              "    }\n",
              "\n",
              "    .dataframe tbody tr th {\n",
              "        vertical-align: top;\n",
              "    }\n",
              "\n",
              "    .dataframe thead th {\n",
              "        text-align: right;\n",
              "    }\n",
              "</style>\n",
              "<table border=\"1\" class=\"dataframe\">\n",
              "  <thead>\n",
              "    <tr style=\"text-align: right;\">\n",
              "      <th></th>\n",
              "      <th>Chunk</th>\n",
              "    </tr>\n",
              "  </thead>\n",
              "  <tbody>\n",
              "    <tr>\n",
              "      <th>0</th>\n",
              "      <td>Comment</td>\n",
              "    </tr>\n",
              "    <tr>\n",
              "      <th>1</th>\n",
              "      <td>This image shows two individuals walking on a ...</td>\n",
              "    </tr>\n",
              "    <tr>\n",
              "      <th>2</th>\n",
              "      <td>The image shows a forested area with tall tree...</td>\n",
              "    </tr>\n",
              "    <tr>\n",
              "      <th>3</th>\n",
              "      <td>In the image, there is a person who appears to...</td>\n",
              "    </tr>\n",
              "    <tr>\n",
              "      <th>4</th>\n",
              "      <td>The image shows a person walking on a path thr...</td>\n",
              "    </tr>\n",
              "    <tr>\n",
              "      <th>...</th>\n",
              "      <td>...</td>\n",
              "    </tr>\n",
              "    <tr>\n",
              "      <th>837</th>\n",
              "      <td>In the image, there is a group of American foo...</td>\n",
              "    </tr>\n",
              "    <tr>\n",
              "      <th>838</th>\n",
              "      <td>This image shows a scene of American football ...</td>\n",
              "    </tr>\n",
              "    <tr>\n",
              "      <th>839</th>\n",
              "      <td>In this image, we see a group of American foot...</td>\n",
              "    </tr>\n",
              "    <tr>\n",
              "      <th>840</th>\n",
              "      <td>This image shows a group of people playing Ame...</td>\n",
              "    </tr>\n",
              "    <tr>\n",
              "      <th>841</th>\n",
              "      <td>This image captures a moment from an American ...</td>\n",
              "    </tr>\n",
              "  </tbody>\n",
              "</table>\n",
              "<p>842 rows × 1 columns</p>\n",
              "</div>\n",
              "    <div class=\"colab-df-buttons\">\n",
              "\n",
              "  <div class=\"colab-df-container\">\n",
              "    <button class=\"colab-df-convert\" onclick=\"convertToInteractive('df-b74b0f08-cf71-4ad0-9b10-855950a44d3f')\"\n",
              "            title=\"Convert this dataframe to an interactive table.\"\n",
              "            style=\"display:none;\">\n",
              "\n",
              "  <svg xmlns=\"http://www.w3.org/2000/svg\" height=\"24px\" viewBox=\"0 -960 960 960\">\n",
              "    <path d=\"M120-120v-720h720v720H120Zm60-500h600v-160H180v160Zm220 220h160v-160H400v160Zm0 220h160v-160H400v160ZM180-400h160v-160H180v160Zm440 0h160v-160H620v160ZM180-180h160v-160H180v160Zm440 0h160v-160H620v160Z\"/>\n",
              "  </svg>\n",
              "    </button>\n",
              "\n",
              "  <style>\n",
              "    .colab-df-container {\n",
              "      display:flex;\n",
              "      gap: 12px;\n",
              "    }\n",
              "\n",
              "    .colab-df-convert {\n",
              "      background-color: #E8F0FE;\n",
              "      border: none;\n",
              "      border-radius: 50%;\n",
              "      cursor: pointer;\n",
              "      display: none;\n",
              "      fill: #1967D2;\n",
              "      height: 32px;\n",
              "      padding: 0 0 0 0;\n",
              "      width: 32px;\n",
              "    }\n",
              "\n",
              "    .colab-df-convert:hover {\n",
              "      background-color: #E2EBFA;\n",
              "      box-shadow: 0px 1px 2px rgba(60, 64, 67, 0.3), 0px 1px 3px 1px rgba(60, 64, 67, 0.15);\n",
              "      fill: #174EA6;\n",
              "    }\n",
              "\n",
              "    .colab-df-buttons div {\n",
              "      margin-bottom: 4px;\n",
              "    }\n",
              "\n",
              "    [theme=dark] .colab-df-convert {\n",
              "      background-color: #3B4455;\n",
              "      fill: #D2E3FC;\n",
              "    }\n",
              "\n",
              "    [theme=dark] .colab-df-convert:hover {\n",
              "      background-color: #434B5C;\n",
              "      box-shadow: 0px 1px 3px 1px rgba(0, 0, 0, 0.15);\n",
              "      filter: drop-shadow(0px 1px 2px rgba(0, 0, 0, 0.3));\n",
              "      fill: #FFFFFF;\n",
              "    }\n",
              "  </style>\n",
              "\n",
              "    <script>\n",
              "      const buttonEl =\n",
              "        document.querySelector('#df-b74b0f08-cf71-4ad0-9b10-855950a44d3f button.colab-df-convert');\n",
              "      buttonEl.style.display =\n",
              "        google.colab.kernel.accessAllowed ? 'block' : 'none';\n",
              "\n",
              "      async function convertToInteractive(key) {\n",
              "        const element = document.querySelector('#df-b74b0f08-cf71-4ad0-9b10-855950a44d3f');\n",
              "        const dataTable =\n",
              "          await google.colab.kernel.invokeFunction('convertToInteractive',\n",
              "                                                    [key], {});\n",
              "        if (!dataTable) return;\n",
              "\n",
              "        const docLinkHtml = 'Like what you see? Visit the ' +\n",
              "          '<a target=\"_blank\" href=https://colab.research.google.com/notebooks/data_table.ipynb>data table notebook</a>'\n",
              "          + ' to learn more about interactive tables.';\n",
              "        element.innerHTML = '';\n",
              "        dataTable['output_type'] = 'display_data';\n",
              "        await google.colab.output.renderOutput(dataTable, element);\n",
              "        const docLink = document.createElement('div');\n",
              "        docLink.innerHTML = docLinkHtml;\n",
              "        element.appendChild(docLink);\n",
              "      }\n",
              "    </script>\n",
              "  </div>\n",
              "\n",
              "\n",
              "<div id=\"df-eacc50d3-abd9-4237-9e08-6b10c3701bc5\">\n",
              "  <button class=\"colab-df-quickchart\" onclick=\"quickchart('df-eacc50d3-abd9-4237-9e08-6b10c3701bc5')\"\n",
              "            title=\"Suggest charts\"\n",
              "            style=\"display:none;\">\n",
              "\n",
              "<svg xmlns=\"http://www.w3.org/2000/svg\" height=\"24px\"viewBox=\"0 0 24 24\"\n",
              "     width=\"24px\">\n",
              "    <g>\n",
              "        <path d=\"M19 3H5c-1.1 0-2 .9-2 2v14c0 1.1.9 2 2 2h14c1.1 0 2-.9 2-2V5c0-1.1-.9-2-2-2zM9 17H7v-7h2v7zm4 0h-2V7h2v10zm4 0h-2v-4h2v4z\"/>\n",
              "    </g>\n",
              "</svg>\n",
              "  </button>\n",
              "\n",
              "<style>\n",
              "  .colab-df-quickchart {\n",
              "      --bg-color: #E8F0FE;\n",
              "      --fill-color: #1967D2;\n",
              "      --hover-bg-color: #E2EBFA;\n",
              "      --hover-fill-color: #174EA6;\n",
              "      --disabled-fill-color: #AAA;\n",
              "      --disabled-bg-color: #DDD;\n",
              "  }\n",
              "\n",
              "  [theme=dark] .colab-df-quickchart {\n",
              "      --bg-color: #3B4455;\n",
              "      --fill-color: #D2E3FC;\n",
              "      --hover-bg-color: #434B5C;\n",
              "      --hover-fill-color: #FFFFFF;\n",
              "      --disabled-bg-color: #3B4455;\n",
              "      --disabled-fill-color: #666;\n",
              "  }\n",
              "\n",
              "  .colab-df-quickchart {\n",
              "    background-color: var(--bg-color);\n",
              "    border: none;\n",
              "    border-radius: 50%;\n",
              "    cursor: pointer;\n",
              "    display: none;\n",
              "    fill: var(--fill-color);\n",
              "    height: 32px;\n",
              "    padding: 0;\n",
              "    width: 32px;\n",
              "  }\n",
              "\n",
              "  .colab-df-quickchart:hover {\n",
              "    background-color: var(--hover-bg-color);\n",
              "    box-shadow: 0 1px 2px rgba(60, 64, 67, 0.3), 0 1px 3px 1px rgba(60, 64, 67, 0.15);\n",
              "    fill: var(--button-hover-fill-color);\n",
              "  }\n",
              "\n",
              "  .colab-df-quickchart-complete:disabled,\n",
              "  .colab-df-quickchart-complete:disabled:hover {\n",
              "    background-color: var(--disabled-bg-color);\n",
              "    fill: var(--disabled-fill-color);\n",
              "    box-shadow: none;\n",
              "  }\n",
              "\n",
              "  .colab-df-spinner {\n",
              "    border: 2px solid var(--fill-color);\n",
              "    border-color: transparent;\n",
              "    border-bottom-color: var(--fill-color);\n",
              "    animation:\n",
              "      spin 1s steps(1) infinite;\n",
              "  }\n",
              "\n",
              "  @keyframes spin {\n",
              "    0% {\n",
              "      border-color: transparent;\n",
              "      border-bottom-color: var(--fill-color);\n",
              "      border-left-color: var(--fill-color);\n",
              "    }\n",
              "    20% {\n",
              "      border-color: transparent;\n",
              "      border-left-color: var(--fill-color);\n",
              "      border-top-color: var(--fill-color);\n",
              "    }\n",
              "    30% {\n",
              "      border-color: transparent;\n",
              "      border-left-color: var(--fill-color);\n",
              "      border-top-color: var(--fill-color);\n",
              "      border-right-color: var(--fill-color);\n",
              "    }\n",
              "    40% {\n",
              "      border-color: transparent;\n",
              "      border-right-color: var(--fill-color);\n",
              "      border-top-color: var(--fill-color);\n",
              "    }\n",
              "    60% {\n",
              "      border-color: transparent;\n",
              "      border-right-color: var(--fill-color);\n",
              "    }\n",
              "    80% {\n",
              "      border-color: transparent;\n",
              "      border-right-color: var(--fill-color);\n",
              "      border-bottom-color: var(--fill-color);\n",
              "    }\n",
              "    90% {\n",
              "      border-color: transparent;\n",
              "      border-bottom-color: var(--fill-color);\n",
              "    }\n",
              "  }\n",
              "</style>\n",
              "\n",
              "  <script>\n",
              "    async function quickchart(key) {\n",
              "      const quickchartButtonEl =\n",
              "        document.querySelector('#' + key + ' button');\n",
              "      quickchartButtonEl.disabled = true;  // To prevent multiple clicks.\n",
              "      quickchartButtonEl.classList.add('colab-df-spinner');\n",
              "      try {\n",
              "        const charts = await google.colab.kernel.invokeFunction(\n",
              "            'suggestCharts', [key], {});\n",
              "      } catch (error) {\n",
              "        console.error('Error during call to suggestCharts:', error);\n",
              "      }\n",
              "      quickchartButtonEl.classList.remove('colab-df-spinner');\n",
              "      quickchartButtonEl.classList.add('colab-df-quickchart-complete');\n",
              "    }\n",
              "    (() => {\n",
              "      let quickchartButtonEl =\n",
              "        document.querySelector('#df-eacc50d3-abd9-4237-9e08-6b10c3701bc5 button');\n",
              "      quickchartButtonEl.style.display =\n",
              "        google.colab.kernel.accessAllowed ? 'block' : 'none';\n",
              "    })();\n",
              "  </script>\n",
              "</div>\n",
              "\n",
              "  <div id=\"id_5ecf4126-fd41-404a-bd4f-b0e5b4a5fd1a\">\n",
              "    <style>\n",
              "      .colab-df-generate {\n",
              "        background-color: #E8F0FE;\n",
              "        border: none;\n",
              "        border-radius: 50%;\n",
              "        cursor: pointer;\n",
              "        display: none;\n",
              "        fill: #1967D2;\n",
              "        height: 32px;\n",
              "        padding: 0 0 0 0;\n",
              "        width: 32px;\n",
              "      }\n",
              "\n",
              "      .colab-df-generate:hover {\n",
              "        background-color: #E2EBFA;\n",
              "        box-shadow: 0px 1px 2px rgba(60, 64, 67, 0.3), 0px 1px 3px 1px rgba(60, 64, 67, 0.15);\n",
              "        fill: #174EA6;\n",
              "      }\n",
              "\n",
              "      [theme=dark] .colab-df-generate {\n",
              "        background-color: #3B4455;\n",
              "        fill: #D2E3FC;\n",
              "      }\n",
              "\n",
              "      [theme=dark] .colab-df-generate:hover {\n",
              "        background-color: #434B5C;\n",
              "        box-shadow: 0px 1px 3px 1px rgba(0, 0, 0, 0.15);\n",
              "        filter: drop-shadow(0px 1px 2px rgba(0, 0, 0, 0.3));\n",
              "        fill: #FFFFFF;\n",
              "      }\n",
              "    </style>\n",
              "    <button class=\"colab-df-generate\" onclick=\"generateWithVariable('cdf')\"\n",
              "            title=\"Generate code using this dataframe.\"\n",
              "            style=\"display:none;\">\n",
              "\n",
              "  <svg xmlns=\"http://www.w3.org/2000/svg\" height=\"24px\"viewBox=\"0 0 24 24\"\n",
              "       width=\"24px\">\n",
              "    <path d=\"M7,19H8.4L18.45,9,17,7.55,7,17.6ZM5,21V16.75L18.45,3.32a2,2,0,0,1,2.83,0l1.4,1.43a1.91,1.91,0,0,1,.58,1.4,1.91,1.91,0,0,1-.58,1.4L9.25,21ZM18.45,9,17,7.55Zm-12,3A5.31,5.31,0,0,0,4.9,8.1,5.31,5.31,0,0,0,1,6.5,5.31,5.31,0,0,0,4.9,4.9,5.31,5.31,0,0,0,6.5,1,5.31,5.31,0,0,0,8.1,4.9,5.31,5.31,0,0,0,12,6.5,5.46,5.46,0,0,0,6.5,12Z\"/>\n",
              "  </svg>\n",
              "    </button>\n",
              "    <script>\n",
              "      (() => {\n",
              "      const buttonEl =\n",
              "        document.querySelector('#id_5ecf4126-fd41-404a-bd4f-b0e5b4a5fd1a button.colab-df-generate');\n",
              "      buttonEl.style.display =\n",
              "        google.colab.kernel.accessAllowed ? 'block' : 'none';\n",
              "\n",
              "      buttonEl.onclick = () => {\n",
              "        google.colab.notebook.generateWithVariable('cdf');\n",
              "      }\n",
              "      })();\n",
              "    </script>\n",
              "  </div>\n",
              "\n",
              "    </div>\n",
              "  </div>\n"
            ],
            "application/vnd.google.colaboratory.intrinsic+json": {
              "type": "dataframe",
              "variable_name": "cdf",
              "summary": "{\n  \"name\": \"cdf\",\n  \"rows\": 842,\n  \"fields\": [\n    {\n      \"column\": \"Chunk\",\n      \"properties\": {\n        \"dtype\": \"string\",\n        \"num_unique_values\": 823,\n        \"samples\": [\n          \"In the image, there is a person standing on an outdoor basketball court. The individual appears to be posing or at rest as opposed to actively playing a sport. The context of the image does not provide specific details about what the person is doing other than standing and facing the camera. The word \\\"seconds!\\\" with an exclamation mark is superimposed onto the image, which suggests that the image might be taken from a video or a context where time is an important factor, perhaps indicating that something has occurred or is expected to occur within a certain number of seconds. However, without additional context, it is unclear what the significance of \\\"seconds!\\\" is in this scenario.\",\n          \"The image shows the lower body of a person wearing red shorts who appears to be in the middle of running or jogging. The motion is captured with a focus on the legs, indicating movement. The background is blurred, suggesting that the photo was taken with a focus on the action, emphasizing the dynamic nature of the activity. The word \\\"for\\\" is superimposed over the image, but without more context, it is not clear what its relevance is \\u2013 it may be part of a sentence or message that is not fully visible.\",\n          \"In the image, there is a woman who appears to be looking down at something in her hands, although what she is looking at is not visible in the photo. She has earphones in her ears, suggesting she may be listening to audio from a connected device. Her expression is one of focus or concentration. The word \\\"Keep\\\" is overlaid on the image, but its relevance to the scene is not clear without additional context. The setting looks outdoors, potentially in a residential area with greenery in the background.\"\n        ],\n        \"semantic_type\": \"\",\n        \"description\": \"\"\n      }\n    }\n  ]\n}"
            }
          },
          "metadata": {},
          "execution_count": 20
        }
      ]
    },
    {
      "cell_type": "markdown",
      "source": [
        "# Embedding"
      ],
      "metadata": {
        "id": "jLTWaO0toC_t"
      }
    },
    {
      "cell_type": "markdown",
      "source": [
        "## Initialize embedding model"
      ],
      "metadata": {
        "id": "xPghyLuIoFMl"
      }
    },
    {
      "cell_type": "code",
      "source": [
        "embedding_model = \"text-embedding-3-small\"\n",
        "\n",
        "client = openai.OpenAI()\n",
        "\n",
        "# Define the function to get embeddings using the specified model\n",
        "def get_embedding(text, model=embedding_model):\n",
        "    # Ensure the text is a string and replace newline characters with spaces\n",
        "    text = str(text).replace(\"\\n\", \" \")\n",
        "    response = client.embeddings.create(input=[text], model=model)\n",
        "    embedding = response.data[0].embedding\n",
        "    return embedding"
      ],
      "metadata": {
        "id": "F-Ooqus0oETd"
      },
      "execution_count": null,
      "outputs": []
    },
    {
      "cell_type": "code",
      "source": [
        "start_time = time.time()\n",
        "\n",
        "# Assuming 'chunks' is already initialized as a list of text segments you want to embed\n",
        "embeddings = []\n",
        "\n",
        "for i, chunk in enumerate(chunks):\n",
        "  try:\n",
        "    # Get embedding for each chunk and append to the embeddings list\n",
        "    embeddings.append(get_embedding(chunk))\n",
        "  except Exception as e:\n",
        "    print(f\"Error processing chunk {i+1}: {e}\")\n",
        "\n",
        "response_time = time.time() - start_time\n",
        "\n",
        "# Output results\n",
        "print(f\"All chunks processed or attempted. Total embeddings successfully created: {len(embeddings)}.\")\n",
        "print(f\"Response Time: {response_time:.2f} seconds\")"
      ],
      "metadata": {
        "colab": {
          "base_uri": "https://localhost:8080/"
        },
        "id": "0M8vXe_moU5d",
        "outputId": "e449472c-90d7-4ece-bde8-d3565b5c6dba"
      },
      "execution_count": null,
      "outputs": [
        {
          "output_type": "stream",
          "name": "stdout",
          "text": [
            "All chunks processed or attempted. Total embeddings successfully created: 842.\n",
            "Response Time: 254.31 seconds\n"
          ]
        }
      ]
    },
    {
      "cell_type": "markdown",
      "source": [
        "# Checking and preparing embeddings\n"
      ],
      "metadata": {
        "id": "FAQeh1SAvYdX"
      }
    },
    {
      "cell_type": "code",
      "source": [
        "print(f\"Number of embeddings: {len(embeddings)}\")"
      ],
      "metadata": {
        "colab": {
          "base_uri": "https://localhost:8080/"
        },
        "id": "AzRTDn85vZlX",
        "outputId": "26801ce6-5716-4a36-fb6f-0dcbc951778b"
      },
      "execution_count": null,
      "outputs": [
        {
          "output_type": "stream",
          "name": "stdout",
          "text": [
            "Number of embeddings: 842\n"
          ]
        }
      ]
    },
    {
      "cell_type": "code",
      "source": [
        "print(\"First embedding overall structure:\", embeddings[0])"
      ],
      "metadata": {
        "colab": {
          "base_uri": "https://localhost:8080/"
        },
        "id": "oSxhTv9RvbY-",
        "outputId": "bf7ce2c8-b67e-44de-89cf-8ebfef49acd6"
      },
      "execution_count": null,
      "outputs": [
        {
          "output_type": "stream",
          "name": "stdout",
          "text": [
            "First embedding overall structure: [0.004547559190541506, -0.004480527713894844, -0.036098238080739975, 0.016680264845490456, 0.004540503490716219, -0.0030534621328115463, -0.027038397267460823, 0.03307829052209854, -0.002220859983935952, -0.0018451306968927383, 0.01978488266468048, -0.0231858491897583, 0.00014806468971073627, 0.01193161029368639, -0.0056835669092834, -0.015339633449912071, -0.018387803807854652, -0.025034507736563683, 0.09251760691404343, 0.059834450483322144, -0.0198554415255785, 0.021125512197613716, -0.007429914548993111, -0.024879276752471924, 0.00951141957193613, -0.02610701136291027, -0.0454120896756649, 0.016045229509472847, 0.010922609828412533, -0.045778997242450714, 0.03279605135321617, -0.04047292470932007, 0.04524274542927742, -0.048262692987918854, 0.0016484461957588792, 0.017752768471837044, 0.029691435396671295, -0.012884163297712803, 0.011726987548172474, 0.009617258794605732, -0.0007889433181844652, 0.029126958921551704, 0.01677904650568962, 0.05825391784310341, 0.007055949419736862, 0.03900528699159622, -0.05444370582699776, -0.04064226895570755, -0.010442804545164108, 0.06948699057102203, 0.0033621597103774548, 0.012961778789758682, -0.01710362173616886, 0.03787633404135704, -0.001892758416943252, -0.0406704917550087, -0.05317363515496254, 0.03499750792980194, 0.020109456032514572, -0.00529548991471529, 0.020405804738402367, -0.048770722001791, -0.0028276715893298388, -0.0035226827021688223, 4.638735481421463e-05, 0.02898583933711052, -0.03962621092796326, -0.013956667855381966, 0.021675875410437584, -0.0011704055359587073, -0.00416301004588604, 0.01837369240820408, -0.009003391489386559, 0.027574649080634117, -0.006346826441586018, -0.022113345563411713, -0.023891443386673927, -0.013999002985656261, -0.0004174034984316677, 0.006918358150869608, -0.007712152320891619, 0.02638925053179264, -0.025034507736563683, -0.03135664016008377, 0.026883166283369064, -0.017160069197416306, -0.08472783863544464, 0.03420724347233772, -0.009059838950634003, -0.04812157526612282, -0.008460083045065403, 0.0373118594288826, -0.006145732011646032, 0.025274410843849182, 0.03530796989798546, -0.019305076450109482, -0.05898773670196533, -0.005789406597614288, 0.004275905434042215, -0.0011236598948016763, 0.019530868157744408, -0.08839692920446396, 0.020476365461945534, -0.04292839393019676, 0.037650544196367264, 0.05258093401789665, -0.0227342676371336, -0.06045537441968918, -0.05785878375172615, -0.02366565354168415, -0.0200671199709177, -0.04143253341317177, -0.05382278189063072, 0.03420724347233772, -0.024046674370765686, -0.02794155851006508, -0.007733320351690054, -0.04453715309500694, -0.038102127611637115, -0.027885111048817635, -0.004399384371936321, -0.020998505875468254, -0.014775157906115055, -0.05486706271767616, 0.0060998681001365185, -0.010844994336366653, -0.003669093595817685, -0.029126958921551704, -0.01625690795481205, -0.0813409835100174, 0.004191233776509762, -0.031779997050762177, -0.009885384701192379, -0.016666151583194733, -0.04473472014069557, -0.006487945560365915, -0.03454592823982239, -0.00047583557898178697, -0.058197468519210815, -0.022310910746455193, 0.036013565957546234, 0.011494141072034836, 0.007648649159818888, 0.012164456769824028, 0.0014420596417039633, -0.02667148783802986, -0.06000379100441933, 0.012326743453741074, 0.003060518065467477, 0.01612989977002144, -0.014133065938949585, 0.005274321883916855, -0.011035504750907421, 0.01119073573499918, -0.010922609828412533, -0.046992622315883636, 0.05593956634402275, 0.025203850120306015, -0.01841602846980095, -0.0009357952512800694, -0.02406078763306141, -0.01367442961782217, -0.007556921802461147, -0.03908995911478996, 0.030086567625403404, 0.0053131296299397945, -0.018387803807854652, -0.004360576625913382, -0.031525980681180954, 0.001420009764842689, 0.008742321282625198, 0.0016996017657220364, 0.03268315643072128, 0.0018001490971073508, -0.04123496636748314, -0.01427418552339077, -0.04208168014883995, -0.03282427415251732, -0.020800938829779625, 0.02238147146999836, 0.014902165159583092, 0.05506462976336479, 0.01125423889607191, -0.0019386220956221223, -0.020956169813871384, -0.018994616344571114, -0.05853615328669548, 0.01634157821536064, 0.020758602768182755, -0.012481974437832832, -0.07146265357732773, 0.002679496770724654, 0.03412257134914398, 0.006692567840218544, 0.018881719559431076, 0.014238905161619186, 0.048347365111112595, -0.030340582132339478, 0.008636482059955597, -0.020603371784090996, 0.029155181720852852, 0.029437420889735222, 0.06423736363649368, -0.024455919861793518, 0.019714321941137314, 0.004967388231307268, -0.01126835122704506, 0.023284632712602615, 0.01505739614367485, -0.038299690932035446, 0.0784057080745697, 0.025373194366693497, -0.002774751977995038, 0.016877830028533936, -0.031130848452448845, -0.010082951746881008, -0.020688043907284737, 0.0004709846107289195, -0.01710362173616886, -0.012157400138676167, 0.00832602009177208, 0.005545976106077433, 0.08083295822143555, 0.03804567828774452, -0.020448140799999237, 0.051395535469055176, -0.006703151855617762, 0.005154370795935392, -0.03135664016008377, -0.036578040570020676, 0.0023602149449288845, -0.017879774793982506, -0.03671915829181671, -0.0640115737915039, 0.0060257804580032825, 0.032288022339344025, -0.02715129218995571, 0.003589714178815484, 0.005581256002187729, -0.016383914276957512, -0.0198554415255785, -0.013138177804648876, 0.023242296651005745, 0.019629651680588722, -0.004191233776509762, 0.0018521866295486689, -0.010562756098806858, -0.014062507078051567, -0.026770271360874176, 0.012079785577952862, 0.044057346880435944, 0.01708950847387314, 0.022960059344768524, -0.06006024032831192, 0.0069289421662688255, 0.039739105850458145, 0.01809145323932171, 0.03824324533343315, 0.006142203696072102, -0.024413583800196648, -0.042984843254089355, -0.0320340096950531, -0.00010975308396155015, -0.027532314881682396, -0.00590582937002182, 0.013928444124758244, -0.012961778789758682, -0.01989777758717537, 0.04580722376704216, -0.041545428335666656, 0.00013593726907856762, -0.05224224925041199, 0.0015540728345513344, 0.02739119529724121, -0.03279605135321617, 0.03536441922187805, -0.006135147996246815, 0.035900671035051346, -0.029126958921551704, 0.037904560565948486, -0.05864905193448067, -0.0012894747778773308, 0.019432084634900093, 0.00011884864215971902, 0.011240127496421337, 0.015029171481728554, -0.027207739651203156, -0.007331131491810083, 0.047867558896541595, 0.04764176905155182, 0.007747432217001915, -0.02574010379612446, 0.04651281610131264, -0.006089284084737301, 0.022889498621225357, 0.028957616537809372, 0.03736830875277519, 0.0016043464420363307, 0.014281241223216057, 0.013427471742033958, 0.031215518712997437, 0.04659748822450638, 0.03392500430345535, -0.0017595773097127676, 0.00027385904104448855, 0.052157577127218246, -0.031779997050762177, -0.013512142933905125, 0.028096789494156837, 0.0007840923499315977, -0.01946030743420124, 0.008072005584836006, -0.0023690350353717804, -0.044424258172512054, -0.028647154569625854, -0.038497257977724075, 0.0222262404859066, 0.05173422023653984, -0.005355465691536665, -0.023722101002931595, 0.06265682727098465, -0.056108906865119934, 0.003884300123900175, -0.012679540552198887, 0.0025736575480550528, -0.03014301508665085, 0.007101812865585089, -0.04208168014883995, 0.020688043907284737, 0.0148316053673625, -0.029493868350982666, -0.09234826266765594, 0.015918221324682236, -0.01549486443400383, 0.07930886745452881, -0.02002478390932083, -0.03942864388227463, 0.057915233075618744, 0.005983444862067699, 0.018035005778074265, -0.01610167697072029, -0.00015225415700115263, 0.0006473833345808089, -0.023002395406365395, 0.01375204510986805, 0.01297589112073183, 0.014189514331519604, 0.004893300589174032, -0.00464281439781189, 0.007683928590267897, 0.016567368060350418, -0.005658871494233608, 0.009172733873128891, -0.016990724951028824, 0.007422858849167824, -0.03070749156177044, -0.01902283914387226, 0.005471888463944197, -0.009920665062963963, 0.03900528699159622, -0.030086567625403404, 0.012298519723117352, 0.009694874286651611, -0.011423582211136818, -0.018839385360479355, 0.034771718084812164, -0.07575266808271408, 0.008961055427789688, 0.00023725628852844238, -0.01658148132264614, -0.051395535469055176, 0.04247681424021721, -0.038215022534132004, 0.018387803807854652, -0.06423736363649368, 0.017075397074222565, 0.022564925253391266, 0.04953276365995407, 0.0019298021215945482, 0.01367442961782217, 0.008869328536093235, 0.02458292804658413, -0.0018451306968927383, -0.002709484426304698, 0.029776105657219887, 0.015664206817746162, 0.02523207478225231, 0.019869552925229073, -0.02305884286761284, -0.015410193242132664, 0.0016616760985925794, -0.04123496636748314, -0.02434302493929863, 0.010541588068008423, -0.020800938829779625, 0.02754642628133297, 0.07789768278598785, 0.029719658195972443, 0.07767189294099808, -0.026897277683019638, 0.00963137112557888, -0.02791333571076393, -0.038892392069101334, -0.00616689957678318, 0.06389867514371872, 0.005468360614031553, -0.05672983080148697, 0.015579535625874996, -0.026248130947351456, -0.017865663394331932, 0.025274410843849182, -0.02835080400109291, 0.06920474767684937, 0.006329186260700226, -0.03824324533343315, -0.011134288273751736, -0.06243103742599487, -0.0004842145135626197, 0.04081160947680473, 0.012898275628685951, -0.011049616150557995, 0.04888361692428589, 0.013469806872308254, -0.013900220394134521, 0.03499750792980194, 0.04287194833159447, 0.007825047709047794, -0.004632230848073959, 0.0640680193901062, -0.04741597920656204, -0.06705974042415619, -0.011621148325502872, -0.023439863696694374, -0.00689719058573246, -0.01806323044002056, -0.03327585756778717, -0.030961506068706512, 0.027489978820085526, 0.017795104533433914, -0.03903350979089737, -0.008826992474496365, -0.015184402465820312, 0.049222301691770554, -0.01610167697072029, 0.0008299560286104679, -0.0530889630317688, -0.007486362010240555, 0.019996561110019684, -0.018162013962864876, -0.023214073851704597, -0.029324525967240334, 0.010760322213172913, 0.006212763488292694, -0.013434527441859245, -0.078462153673172, -0.02898583933711052, 0.014662262983620167, 0.04665393754839897, 0.048770722001791, -0.02811090275645256, 0.029098734259605408, 0.04552498459815979, 0.036775607615709305, 0.019305076450109482, 0.01610167697072029, -0.01625690795481205, -0.03787633404135704, 0.04016246274113655, -0.03903350979089737, -0.024935724213719368, -0.0007364646880887449, 0.02935274876654148, -0.011197791434824467, 0.004201817791908979, -0.02218390442430973, -0.022494366392493248, 0.014845717698335648, -0.040614042431116104, 0.012065673246979713, -0.03598533943295479, 0.014464695937931538, -0.040021345019340515, 0.006389162037521601, 0.003120493609458208, -0.0688096135854721, 0.0736641138792038, 0.002390202833339572, 0.006756071466952562, -0.0974849984049797, -0.009088062681257725, 0.07473661750555038, 0.006413857918232679, 0.022974170744419098, -0.01669437624514103, -0.020081231370568275, -0.024766381829977036, -0.038977064192295074, -0.03172354772686958, 0.009412636049091816, -0.07530108839273453, -0.01535374578088522, -0.014281241223216057, -0.04487583786249161, 0.03985200077295303, 0.02518973872065544, 0.016722599044442177, -0.00750753004103899, -0.031215518712997437, -0.0009578451281413436, 0.021873442456126213, 0.0069889179430902, 0.019446196034550667, -0.014761045575141907, -0.023482199758291245, 0.007775655947625637, 0.0008471549372188747, -0.034291911870241165, 0.021929889917373657, -0.0071688443422317505, 0.010746210813522339, -0.012093896977603436, 0.012771268375217915, 0.02650214545428753, -0.03570310398936272, 0.013723821379244328, -0.00850947480648756, 0.01145180594176054, -0.03415079414844513, -0.023792661726474762, 0.011480029672384262, 0.03042525239288807, 0.014006059616804123, 0.02050458826124668, 0.004632230848073959, -0.014372969046235085, -0.0037043732590973377, 0.005584783852100372, 0.006551448721438646, 0.00620570732280612, -0.0012171512935310602, 0.02382088452577591, 0.0010037088068202138, 0.014817493036389351, -0.03942864388227463, -0.025443753227591515, -7.877306052250788e-05, -0.01601700484752655, -0.013850828632712364, 0.028576593846082687, -0.0014641095185652375, -0.01954497955739498, -0.025641320273280144, 0.0117128761485219, -0.020151790231466293, 0.00790971890091896, -0.028491923585534096, -0.016722599044442177, -0.008121397346258163, 0.023199960589408875, -0.031159071251749992, -0.0011192499659955502, -0.014323577284812927, 0.018359579145908356, -0.0015761227114126086, -0.023919668048620224, 0.022691933438181877, 0.004046586807817221, -0.02370798960328102, -0.02574010379612446, -0.021323079243302345, -0.01289121899753809, 0.03499750792980194, -0.019559090957045555, 0.03776343911886215, 0.013512142933905125, -0.03031235747039318, 0.021591205149888992, 0.0067243194207549095, 0.02926807664334774, -0.007740376517176628, -0.0034062594641000032, 0.010082951746881008, -0.025288522243499756, -0.01730118691921234, -0.02691139094531536, 0.0038737161085009575, 0.026163460686802864, 0.018274908885359764, -0.023552758619189262, 0.004233569372445345, 0.03288072347640991, 0.023030618205666542, -0.005884661804884672, 0.019008727744221687, 0.014648150652647018, -0.0030252381693571806, -0.0007003029459156096, 0.011663484387099743, -0.044424258172512054, 0.01569243147969246, -0.0062021794728934765, -0.030199462547898293, 0.003589714178815484, -0.02029290981590748, 0.038581930100917816, 0.05966510623693466, 0.02811090275645256, -0.018994616344571114, -0.00525668216869235, -0.011134288273751736, -0.0024395943619310856, 0.02174643613398075, -0.012954723089933395, -0.02458292804658413, -0.020758602768182755, 0.012919442728161812, -0.015297298319637775, -0.04004956781864166, 0.008213125169277191, 0.005852909758687019, -0.03770699352025986, -0.018557146191596985, 0.008777600713074207, 0.009335020557045937, 0.03364276513457298, 0.02246614173054695, -0.0001557821233291179, -0.037650544196367264, 0.0315542034804821, 0.03186466544866562, 0.0017754532163962722, 0.036973174661397934, -0.0001705555187072605, -0.030538149178028107, -0.018909944221377373, 0.007789767812937498, 0.01689194329082966, -0.02578243799507618, -0.03463060036301613, -0.006325658410787582, -0.024314800277352333, 0.017512865364551544, 0.027856888249516487, -0.0502101331949234, 0.015607759356498718, 0.01689194329082966, 0.03575954958796501, 0.012242072261869907, 0.016750823706388474, -0.010336965322494507, -0.005898773670196533, -0.005020307842642069, 0.0217746589332819, 0.02430068887770176, 0.003445067210122943, 0.01145180594176054, 0.010442804545164108, 0.016186347231268883, -0.0265444815158844, 0.0031751771457493305, 0.013166401535272598, -0.02065981924533844, 0.005288433749228716, -0.020561035722494125, -0.006498529110103846, 0.04837558791041374, -0.03163887560367584, 0.0008034962229430676, -0.003968971315771341, 0.007825047709047794, -0.01756931282579899, 0.020758602768182755, 0.04439603164792061, 0.022635485976934433, 0.0449322834610939, -0.01710362173616886, 0.02246614173054695, -0.04473472014069557, -0.013420415110886097, -0.004194761626422405, -0.02462526224553585, 0.0051825945265591145, -0.012637205421924591, -0.01163526065647602, 0.02554253675043583, -0.03985200077295303, 0.028491923585534096, 0.03194933757185936, -0.00473454175516963, -0.009052783250808716, -0.023284632712602615, 0.0019615539349615574, 0.01259486936032772, -0.026798496022820473, 0.04967388138175011, -0.0349128358066082, 0.019714321941137314, -0.00043768936302512884, -0.005704734940081835, -0.01754109002649784, 0.061923012137413025, -0.03434836119413376, -0.012834771536290646, 0.004328825045377016, 0.006738431751728058, 0.006960693746805191, -4.5036802475806326e-05, -0.03813035041093826, 0.013667373917996883, -0.005097923334687948, -0.038864169269800186, -0.03460237383842468, -0.03254203870892525, 0.00898927915841341, -0.00992772076278925, 0.016186347231268883, -0.027320636436343193, 0.003136369399726391, 0.0502101331949234, -0.013639150187373161, 0.0030146543867886066, 0.034856390208005905, -0.03138486295938492, -0.014888052828609943, -0.007860327139496803, 0.005055587738752365, -0.025119179859757423, 0.036662712693214417, 0.014034283347427845, 0.011077840812504292, -0.018345467746257782, -0.02710895799100399, 0.03014301508665085, -0.0012577229645103216, -0.018528923392295837, -0.0094479164108634, -0.04693617299199104, 0.014330632984638214, -0.02874593809247017, -0.029380973428487778, -0.005835270043462515, -0.0032792524434626102, 0.021718211472034454, -0.02229679934680462, 0.026375139132142067, -0.020927945151925087, 0.020871497690677643, 0.031610652804374695, -0.03928752616047859, 0.033614542335271835, 0.008213125169277191, 0.01011117547750473, 0.0033727437257766724, -0.01994011178612709, -0.008615314029157162, -0.02150653302669525, 0.009765434078872204, -0.03652159497141838, -0.032372694462537766, 0.019234517589211464, 0.009680761955678463, 0.014281241223216057, -0.03550553694367409, -0.007010085508227348, -0.014817493036389351, -0.0025930614210665226, 0.015071507543325424, -0.013067618012428284, -0.016313355416059494, 0.022028673440217972, -0.001752521377056837, -0.022960059344768524, -0.02602234110236168, 0.02658681757748127, 0.024328913539648056, 0.0025789495557546616, -0.014203625731170177, 0.031808219850063324, -0.020927945151925087, 0.015325522050261497, 0.013180512934923172, 0.03367099165916443, -0.04512985050678253, -0.038694825023412704, -0.002908815164119005, -0.04716196656227112, 0.0035597262904047966, 0.0014350037090480328, 0.00019591284217312932, -0.029776105657219887, 0.005616535432636738, -0.031328413635492325, -0.01211506500840187, -0.0454685352742672, -0.008502419106662273, 0.00581410201266408, 0.004833325278013945, -0.04044470191001892, 0.04840381070971489, 0.020589260384440422, -0.02166176401078701, -0.029691435396671295, 0.012848883867263794, 0.019728433340787888, 0.025471976026892662, 0.035731326788663864, -0.017075397074222565, 0.01435180101543665, 0.013639150187373161, -0.01463403832167387, -0.032175127416849136, -0.00021267072588671, 0.010336965322494507, 0.015438416972756386, -0.0028558955527842045, 0.01415423396974802, -0.014464695937931538, -0.050266582518815994, -0.021054953336715698, -0.03770699352025986, 0.04569432884454727, -0.030820386484265327, 0.01857125759124756, -0.01393549982458353, 0.03976732864975929, -0.016355689615011215, -0.021238407120108604, 0.02778632752597332, 0.019079286605119705, -0.003849020227789879, -0.01463403832167387, 0.0003946921497117728, -0.007994390092790127, 0.020307021215558052, 0.01765398494899273, 0.017668096348643303, -0.03700139746069908, -0.009165678173303604, 0.009278573095798492, -0.02462526224553585, 0.030199462547898293, -0.000956081144977361, -0.0020568091422319412, -0.03330408036708832, 0.001049572485499084, 0.004205345641821623, 0.01003355998545885, 0.013857884332537651, 0.014930388890206814, 0.00891166366636753, -0.06113274395465851, -0.004335880745202303, 0.02606467716395855, -0.024216018617153168, -0.013730877079069614, 0.020716266706585884, -0.02743353135883808, -0.028647154569625854, 0.03223157674074173, -0.02830846793949604, -0.011910442262887955, 0.004374688491225243, -0.006713735871016979, 0.0009022795129567385, 0.001612284453585744, -0.02298828214406967, 0.04239214211702347, -0.011677595786750317, 0.010047671385109425, 0.013109954074025154, -0.00817078910768032, -0.039541538804769516, -0.053427647799253464, -0.008615314029157162, -0.008558866567909718, -0.008883439935743809, 0.0012541949981823564, 0.04865782707929611, -0.004081866703927517, -0.0234257522970438, 0.059834450483322144, -0.03059459663927555, 0.008953999727964401, -0.0062903789803385735, 0.012566645629703999, 0.016920166090130806, 0.008558866567909718, 0.022762492299079895, -0.01660970412194729, -0.00542602501809597, -0.009384412318468094, 0.005796462297439575, 0.02190166711807251, -0.025895332917571068, -0.004618118982762098, -0.014203625731170177, 0.01954497955739498, 0.02782866358757019, 0.012397303245961666, -0.04769821837544441, -0.036662712693214417, 0.017428195104002953, -0.007937942631542683, 0.01519851479679346, 0.02226857654750347, -0.04323885589838028, 0.02442769706249237, 0.025895332917571068, -0.007179428357630968, -0.029211629182100296, 0.03135664016008377, -0.015791215002536774, 0.05210112780332565, 0.017145955935120583, 0.00946908351033926, 0.03262671083211899, 0.008841104805469513, 0.005507168360054493, 0.04230746999382973, -0.0008617077837698162, -0.053314752876758575, -0.004184178076684475, 0.024879276752471924, -0.00854475423693657, 0.04501695558428764, 0.005979917012155056, -0.004667510278522968, 0.03999312222003937, 0.018994616344571114, 0.00724645983427763, -0.029296301305294037, 0.008234293200075626, -0.02478049322962761, 0.01519851479679346, 0.02410312183201313, -0.019643763080239296, 0.014394136145710945, 0.02362331748008728, 0.02386322058737278, 0.029042286798357964, -0.04058581963181496, 0.0011192499659955502, -0.002485458040609956, 0.004766293801367283, -0.0038560761604458094, -0.029804330319166183, 0.01830313168466091, 0.02826613187789917, 0.021732322871685028, 0.016567368060350418, 0.011769323609769344, 0.009363244287669659, 0.04679505527019501, -0.0186559297144413, -0.051113296300172806, 0.01145180594176054, 0.015113843604922295, 0.010386357083916664, 0.019474420696496964, -0.00034133155713789165, -0.014690486714243889, 0.0010848521487787366, -0.005870549939572811, -0.045778997242450714, -0.03513862565159798, -0.012827715836465359, 0.014337688684463501, -0.026713823899626732, 0.02854837104678154, -0.001940386020578444, -0.019432084634900093, -0.015706542879343033, 0.001654620049521327, 0.021125512197613716, -0.0006147495587356389, 0.0076274811290204525, 0.03355809301137924, -0.01497272402048111, 0.012136233039200306, -0.04933519661426544, 0.054076794534921646, 0.04592011868953705, 0.008184901438653469, 0.026713823899626732, -0.017907999455928802, -0.035336192697286606, 0.04227924719452858, 0.03158243000507355, 0.004974444396793842, 0.004417024087160826, 0.008382467553019524, -0.022833051159977913, -0.004582839086651802, -0.03440480679273605, -0.013363967649638653, 0.03767877072095871, -0.026078788563609123, 0.03220335394144058, 0.03559020906686783, 0.018684154376387596, 0.009151565842330456, -0.009751321747899055, 0.03214690461754799, 0.0013670901535078883, 0.0028982311487197876, 0.031215518712997437, -0.0044699436984956264, -0.02262137271463871, -0.009843049570918083, -0.028012119233608246, 0.004731013905256987, -0.004561671055853367, 0.010400469414889812, -0.008558866567909718, -0.005835270043462515, 0.009384412318468094, 0.0002698900643736124, 0.002254375722259283, -0.04916585609316826, -0.00012347911251708865, 0.014062507078051567, -0.0002767255064100027, -0.006943054031580687, -0.035533759742975235, 0.03824324533343315, -0.0060857562348246574, 0.01641213707625866, 0.004741597920656204, 0.009687818586826324, 0.04521452262997627, -0.02695372700691223, 0.03454592823982239, -0.03059459663927555, -0.011430637910962105, -0.0056553431786596775, 0.016920166090130806, -0.009003391489386559, 0.007535753771662712, 0.006830159109085798, -0.007352299056947231, -0.007542809937149286, -0.004000723361968994, 0.004438192117959261, -0.014986836351454258, -0.024963948875665665, -0.0054154410026967525, 0.013526254333555698, 0.014401192776858807, 0.015621871687471867, 0.010555700398981571, 0.0019791938830167055, 0.003023474244400859, -0.04521452262997627, -0.017922110855579376, -0.00970898661762476, 0.01706128567457199, 0.010040615685284138, 0.011218959465622902, -0.00110602006316185, 0.013081730343401432, -0.042900171130895615, -0.003263376420363784, -0.0026036452036350965, -0.03618290647864342, 0.028096789494156837, 0.04809334874153137, 0.01817612536251545, -0.013039394281804562, 0.0058317421935498714, 0.022014562040567398, 0.010583924129605293, 0.02150653302669525, 0.02582477405667305, -0.014372969046235085, -0.025471976026892662, -0.016764935106039047, -0.02674204856157303, -0.009737210348248482, 0.03880771994590759, 0.0025383776519447565, -0.0015470169018954039, -0.01573476754128933, 0.0009816589299589396, 0.004970916081219912, -0.020307021215558052, 0.016271019354462624, -0.017357634380459785, -0.023326968774199486, -0.010880273766815662, 0.003060518065467477, 0.021040840074419975, 0.02486516535282135, -0.03166710212826729, -0.0007532225572504103, 0.02926807664334774, 0.006131620146334171, 0.013963723555207253, 0.04016246274113655, 0.03832791745662689, 0.02449825592339039, 0.007147676777094603, -0.011656427755951881, 0.04524274542927742, 0.000808347191195935, -0.006371522322297096, -0.01621457189321518, 0.0025330858770757914, -0.00939146801829338, 0.027899224311113358, 0.014746934175491333, 0.0017313535790890455, -0.007747432217001915, 0.0033251161221414804, -0.014429416507482529, 0.025359081104397774, -0.023157626390457153, 0.026163460686802864, -0.002614229219034314, 0.007754488382488489, -0.0032880723010748625, 0.01253136619925499, -0.036973174661397934, 0.01200922578573227, 0.001855714712291956, -0.033332303166389465, 0.007024197373539209, 0.016990724951028824, 0.012573701329529285, -0.002600117353722453, 0.011035504750907421, 0.029691435396671295, 0.011317742988467216, 0.02502039633691311, -0.03135664016008377, -0.03192111477255821, 0.021633541211485863, -0.015565424226224422, 0.007796823978424072, 0.0011801074724644423, 0.0036867335438728333, 0.0020391694270074368, -0.03499750792980194, -0.01617223583161831, 0.0049568042159080505, -0.012954723089933395, -0.004290017299354076, 0.005457776598632336, 0.1310713142156601, -0.003930163569748402, 0.009010447189211845, -0.02370798960328102, 0.016440361738204956, 0.007045365404337645, -0.021238407120108604, 0.04148898273706436, -0.011487085372209549, -0.0036937894765287638, -0.024851053953170776, -0.009306796826422215, 0.0052990177646279335, -0.0062021794728934765, -0.02094205655157566, -0.02818146161735058, -0.027137180790305138, -0.012291464023292065, 4.572585748974234e-05, -0.01802089437842369, -0.011783435009419918, -0.014690486714243889, 0.027193628251552582, 0.001387375988997519, 0.021647652611136436, -0.00507322745397687, -0.015565424226224422, -0.0008286330266855657, 0.002183816395699978, -0.02606467716395855, 0.023030618205666542, 0.007563977502286434, -0.019615538418293, 0.037255413830280304, -0.0186559297144413, -0.025401417165994644, -0.0025330858770757914, 0.0368320569396019, -0.0027994478587061167, -0.020800938829779625, -0.011924554593861103, 0.008692929521203041, 0.0016863718628883362, -0.0033110042568296194, 0.013766157440841198, -0.024004340171813965, -0.03880771994590759, 0.0012127412483096123, -0.008121397346258163, -0.004392328206449747, -0.019671985879540443, 0.001087498152628541, 0.004275905434042215, -0.033529870212078094, 0.004120674449950457, -0.04275905340909958, 0.022042784839868546, -0.04944809153676033, 0.036013565957546234, 0.00872820895165205, -0.011656427755951881, 0.010019447654485703, 0.017597537487745285, -0.004406440537422895, 0.0076274811290204525, -0.02050458826124668, 0.0028417834546417, -0.009716042317450047, 0.006279794964939356, 0.017809215933084488, 0.00820606853812933, 0.010844994336366653, 0.0016017004381865263, -0.0013944319216534495, 0.0006976570002734661, 0.0022843636106699705, 0.008946944028139114, -0.01869826577603817, -0.012220904231071472, -0.014048394747078419, -0.008333075791597366, 0.03426368907094002, 0.0329936183989048, 0.05029480531811714, 0.013653261587023735, -0.024399472400546074, 0.004939164500683546, -0.03702962026000023, 0.015523088164627552, -0.008495362475514412, 0.005217874422669411, 0.032090459018945694, -0.006371522322297096, 0.008220180869102478, 0.02170410007238388, -0.00759925739839673, -0.018712377175688744, 0.008354243822395802, 0.032090459018945694, -0.00529548991471529, 0.00973015371710062, -0.011599980294704437, 0.011063728481531143, 0.02830846793949604, 0.012877107597887516, 0.023595094680786133, 0.015269074589014053, -0.017682209610939026, -0.017287075519561768, -0.010619203560054302, 0.007274683564901352, -0.021689988672733307, 0.03279605135321617, 0.0006610542186535895, -0.01778099127113819, -0.02562720701098442, 0.01415423396974802, 0.04321063309907913, -0.0010769142536446452, -0.01821846142411232, -0.011437693610787392, 0.01569243147969246, -0.009130398742854595, 0.019403859972953796, 0.007966166362166405, -0.004212401807308197, 0.012961778789758682, 0.0006804580916650593, 0.006523224990814924, 0.0007655704976059496, 0.006209235172718763, -0.01701894961297512, 0.04160187765955925, 0.01878293603658676, -0.027405306696891785, 0.044311363250017166, -0.007648649159818888, -0.021675875410437584, 0.0174564179033041, 0.014295353554189205, 0.005507168360054493, 0.011402414180338383, 0.02425835281610489, 0.019841330125927925, -0.010527476668357849, 0.004501695744693279, -0.0020920890383422375, -0.033699214458465576, -0.029239853844046593, -0.016849607229232788, -0.019248628988862038, 0.010160567238926888, -0.017682209610939026, -0.012799492105841637, 0.01629924215376377, -0.028760049492120743, -0.0164968091994524, -0.0021485364995896816, 0.005581256002187729, 0.0013247544411569834, 0.00872820895165205, -0.003374507650732994, -0.009984168224036694, -0.00102134863846004, 0.04879894480109215, 0.005376633256673813, -0.005916413385421038, -0.008213125169277191, -0.019051063805818558, -0.02358098328113556, 0.011825771071016788, 0.008685873821377754, 0.016849607229232788, 0.007832103408873081, -0.013039394281804562, -0.002845311537384987, -0.017879774793982506, 0.021675875410437584, -0.0063538821414113045, 0.03626757860183716, 0.01817612536251545, 0.00999122392386198, -0.009363244287669659, 0.018839385360479355, -0.03776343911886215, -0.0051825945265591145, 0.0037325972225517035, -0.03454592823982239, 0.000581233820412308, -0.025923557579517365, -0.01802089437842369, 0.010195846669375896, 0.003314532106742263, 0.04329530522227287, -0.029098734259605408, -0.0035791301634162664, -0.0044205524027347565, -0.02839314006268978, 0.01773865707218647, 0.023157626390457153, -0.009165678173303604, 0.004861549008637667, 0.006396218203008175, -0.007260571699589491, -0.003810212714597583, -0.03415079414844513, 0.008142565377056599, 0.03784811124205589, 0.01998244784772396, 0.018528923392295837, 0.013963723555207253, 0.004649870563298464, 0.0031522454228252172, -0.015946445986628532, 0.029634986072778702, 0.008438915014266968, 0.01032990962266922, 0.038497257977724075, 0.0070665329694747925, -0.02606467716395855, 0.00877054501324892, -0.01641213707625866, 0.00870704185217619, -0.06113274395465851, -0.003392147598788142, 0.011769323609769344, -0.026925502344965935, -0.0011024920968338847, -0.0012541949981823564, -0.005129674915224314, 0.030820386484265327, 0.020109456032514572, 0.0026230490766465664, -0.021450085565447807, 0.0002981138532049954, 0.04233569651842117, -0.013646205887198448, -0.022593149915337563, -0.018035005778074265, 0.03643692284822464, -0.006378578022122383, 0.00850947480648756, -0.0030058342963457108, -0.03290894627571106, -0.009299741126596928, 0.013371024280786514, 0.013251072727143764, 0.0012797728413715959, -0.008128453977406025, 0.006240987218916416, 0.0023161154240369797, -0.000149938918184489, 0.023736214265227318, -0.010344021953642368, -0.029409196227788925, -0.027899224311113358, -0.012743044644594193, 0.003986611496657133, 0.024328913539648056, -0.014704598113894463, -0.009130398742854595, -0.00340273161418736, 0.01581943780183792, -0.015226738527417183, -0.03736830875277519, -0.052072905004024506, 0.005930525250732899, 0.0021361885592341423, 0.012947666458785534, 0.029973672702908516, -0.020109456032514572, -0.009172733873128891, -0.02029290981590748, 0.024173682555556297, 0.0064420816488564014, 0.019869552925229073, 0.0057435426861047745, -0.0023143512662500143, 0.014147178269922733, -0.01978488266468048, -0.015212626196444035, 0.013519198633730412, -0.02074449136853218, -0.005965805146843195, -0.003134605474770069, -0.0034521231427788734, -0.013879052363336086, 0.004046586807817221, -0.02610701136291027, -0.023891443386673927, 0.024216018617153168, 0.009737210348248482, 0.0066467043943703175, -0.01032990962266922, 0.013349856249988079, 0.00939146801829338, -0.029606763273477554, -0.06463249772787094, -0.048432037234306335, 0.0032280967570841312, 0.001574358670040965, 0.004314713180065155, 0.013131121173501015, 0.007952054962515831, 0.03423546627163887, 0.02918340638279915, -0.043464645743370056, 0.003519154619425535, 0.007881495170295238, 0.007253515999764204, -0.012982946820557117, -0.013307520188391209, -0.04188411310315132, 0.010224070399999619, -0.00032501466921530664, -0.03307829052209854, 0.023002395406365395, 0.0052849058993160725, -0.01078854687511921, 0.017964446917176247, 0.024752270430326462, -0.011649372056126595, -0.012058617547154427, -0.011776379309594631, 0.021873442456126213, 0.010132343508303165, -0.010379301384091377, -0.01333574391901493, 0.033529870212078094, -0.018162013962864876, -0.003824324579909444, 0.024441808462142944, 0.0067772394977509975, 0.00035412044962868094, 0.005665927194058895, -0.023087065666913986, -0.010012391954660416, -0.014704598113894463, 0.0020232934039086103, 0.00642796978354454, -0.013547422364354134, 0.005560087971389294, -0.01307467371225357, 0.022169793024659157, 0.03042525239288807, 0.007172372657805681, -0.021012617275118828, 0.03937219828367233, 0.011233070865273476, 0.039456866681575775, -0.023030618205666542, 0.0155372004956007, 0.027179516851902008, -0.035533759742975235, 0.0037890446837991476, -0.009998280555009842, 0.040698714554309845, -0.016793159767985344, -0.020278798416256905, 0.048234470188617706, -0.004794517531991005, -0.020194126293063164, 0.038102127611637115, 0.00598697317764163, -0.013138177804648876, 0.03688850253820419, 0.011748155578970909, 0.018204350024461746, 0.018246684223413467, 0.018599482253193855, 0.004579311236739159, -0.006604368332773447, -0.03990845009684563, -0.005493056494742632, 0.022452030330896378, 0.013378079980611801, 0.004889772739261389, -0.04047292470932007, -0.020772714167833328, -0.057040292769670486, 0.020010672509670258, 0.002455470385029912, 0.0020568091422319412, 0.002019765553995967, 0.02782866358757019, 0.03564665466547012, -0.005955221131443977, 0.023482199758291245, 0.010435748845338821]\n"
          ]
        }
      ]
    },
    {
      "cell_type": "code",
      "source": [
        "first_embedding = embeddings[0]\n",
        "\n",
        "if isinstance(first_embedding, np.ndarray):\n",
        "    print(\"First embedding is a numpy array.\")\n",
        "    print(\"Shape:\", first_embedding.shape)\n",
        "    print(\"Data Type:\", first_embedding.dtype)\n",
        "    print(\"First few elements:\", first_embedding[:10])\n",
        "elif isinstance(first_embedding, list):\n",
        "    print(\"First embedding is a list.\")\n",
        "    print(\"Length:\", len(first_embedding))\n",
        "    print(\"First few elements:\", first_embedding[:10])\n",
        "else:\n",
        "    print(\"Unknown format of the embedding:\", type(first_embedding))\n"
      ],
      "metadata": {
        "colab": {
          "base_uri": "https://localhost:8080/"
        },
        "id": "OcpUrhh-vfZ_",
        "outputId": "2d12d2a3-79ec-4eee-d1eb-9b031d80728b"
      },
      "execution_count": null,
      "outputs": [
        {
          "output_type": "stream",
          "name": "stdout",
          "text": [
            "First embedding is a list.\n",
            "Length: 1536\n",
            "First few elements: [0.004547559190541506, -0.004480527713894844, -0.036098238080739975, 0.016680264845490456, 0.004540503490716219, -0.0030534621328115463, -0.027038397267460823, 0.03307829052209854, -0.002220859983935952, -0.0018451306968927383]\n"
          ]
        }
      ]
    },
    {
      "cell_type": "code",
      "source": [
        "pure_embeddings = list(embeddings)"
      ],
      "metadata": {
        "id": "yLlx_SGFvp2j"
      },
      "execution_count": null,
      "outputs": []
    },
    {
      "cell_type": "code",
      "source": [
        "r = len(pure_embeddings)\n",
        "print(r)"
      ],
      "metadata": {
        "colab": {
          "base_uri": "https://localhost:8080/"
        },
        "id": "apEaPQ-Cv2uX",
        "outputId": "c6663e7b-13e1-44f6-c867-aa63e174827c"
      },
      "execution_count": null,
      "outputs": [
        {
          "output_type": "stream",
          "name": "stdout",
          "text": [
            "842\n"
          ]
        }
      ]
    },
    {
      "cell_type": "markdown",
      "source": [
        "## Checking chunks after embeddings"
      ],
      "metadata": {
        "id": "vqLnv5ysA0_K"
      }
    },
    {
      "cell_type": "code",
      "source": [
        "num_chunks = len(chunks)\n",
        "print(f\"Number of chunks: {num_chunks}\")"
      ],
      "metadata": {
        "colab": {
          "base_uri": "https://localhost:8080/"
        },
        "id": "N5ifWEuYA3pK",
        "outputId": "a26f9b93-1133-4219-db0f-3713bd73140e"
      },
      "execution_count": null,
      "outputs": [
        {
          "output_type": "stream",
          "name": "stdout",
          "text": [
            "Number of chunks: 842\n"
          ]
        }
      ]
    },
    {
      "cell_type": "code",
      "source": [
        "seen_chunks = set()\n",
        "duplicate_chunks = []\n",
        "\n",
        "for chunk in chunks:\n",
        "  if chunk in seen_chunks:\n",
        "    duplicate_chunks.append(chunk)\n",
        "  else:\n",
        "    seen_chunks.add(chunk)\n",
        "\n",
        "print(f\"Number of duplicated chunks: {len(duplicate_chunks)}\")"
      ],
      "metadata": {
        "colab": {
          "base_uri": "https://localhost:8080/"
        },
        "id": "-jEmYabZA8Ip",
        "outputId": "611b0b58-a2ea-4394-d738-479eda1314f4"
      },
      "execution_count": null,
      "outputs": [
        {
          "output_type": "stream",
          "name": "stdout",
          "text": [
            "Number of duplicated chunks: 19\n"
          ]
        }
      ]
    },
    {
      "cell_type": "code",
      "source": [
        "# Check the lengths of the chunks and embeddings\n",
        "num_chunks = len(chunks)\n",
        "print(f\"Number of chunks: {num_chunks}\")\n",
        "print(f\"Number of embeddings: {len(pure_embeddings)}\")"
      ],
      "metadata": {
        "colab": {
          "base_uri": "https://localhost:8080/"
        },
        "id": "Y0RC8YD4BKBy",
        "outputId": "afcd3fbe-9226-4fff-c2c5-bd733a1d7adb"
      },
      "execution_count": null,
      "outputs": [
        {
          "output_type": "stream",
          "name": "stdout",
          "text": [
            "Number of chunks: 842\n",
            "Number of embeddings: 842\n"
          ]
        }
      ]
    },
    {
      "cell_type": "code",
      "source": [
        "assert len(chunks) == len(pure_embeddings), \"Mismatch between num of chunks and embeddings\""
      ],
      "metadata": {
        "id": "kwYXXfvIBLpZ"
      },
      "execution_count": null,
      "outputs": []
    },
    {
      "cell_type": "markdown",
      "source": [
        "# The Pinecone index"
      ],
      "metadata": {
        "id": "zTPhyrxMBRsT"
      }
    },
    {
      "cell_type": "code",
      "source": [
        "import os\n",
        "from pinecone import Pinecone, ServerlessSpec\n",
        "\n",
        "# initialize connection to pinecone (get API key at app.pinecone.io)\n",
        "api_key = os.environ.get('PINECONE_API_KEY') or 'PINECONE_API_KEY'\n",
        "\n",
        "from pinecone import Pinecone, ServerlessSpec\n",
        "pc = Pinecone(api_key=PINECONE_API_KEY)"
      ],
      "metadata": {
        "id": "TIIhautSBSNa"
      },
      "execution_count": null,
      "outputs": []
    },
    {
      "cell_type": "code",
      "source": [
        "from pinecone import ServerlessSpec\n",
        "\n",
        "index_name = 'videos-sports-us' # Choose the index name of your choice\n",
        "cloud = os.environ.get('PINECONE_CLOUD') or 'aws'\n",
        "region = os.environ.get('PINECONE_REGION') or 'us-east-1'\n",
        "\n",
        "spec = ServerlessSpec(cloud=cloud, region=region)"
      ],
      "metadata": {
        "id": "JTYA593PuO2l"
      },
      "execution_count": null,
      "outputs": []
    },
    {
      "cell_type": "code",
      "source": [
        "import time\n",
        "import pinecone\n",
        "# check if index already exists (it shouldn't if this is first time)\n",
        "if index_name not in pc.list_indexes().names():\n",
        "    # if does not exist, create index\n",
        "    pc.create_index(\n",
        "        index_name,\n",
        "        dimension=1536,  # dimensionality of text-embedding-ada-002\n",
        "        metric='cosine',\n",
        "        spec=spec\n",
        "    )\n",
        "    # wait for index to be initialized\n",
        "    time.sleep(1)"
      ],
      "metadata": {
        "id": "2DSHd20FuixO"
      },
      "execution_count": null,
      "outputs": []
    },
    {
      "cell_type": "markdown",
      "source": [
        "# Upserting"
      ],
      "metadata": {
        "id": "0AmQAxpWvQGb"
      }
    },
    {
      "cell_type": "code",
      "source": [
        "df.info()"
      ],
      "metadata": {
        "colab": {
          "base_uri": "https://localhost:8080/"
        },
        "id": "uWXX8c-4vREd",
        "outputId": "1ef2e57f-b938-40ca-f300-f816020068e4"
      },
      "execution_count": null,
      "outputs": [
        {
          "output_type": "stream",
          "name": "stdout",
          "text": [
            "<class 'pandas.core.frame.DataFrame'>\n",
            "Index: 842 entries, 0 to 842\n",
            "Data columns (total 4 columns):\n",
            " #   Column       Non-Null Count  Dtype \n",
            "---  ------       --------------  ----- \n",
            " 0   ID           842 non-null    object\n",
            " 1   FrameNumber  842 non-null    object\n",
            " 2   Comment      842 non-null    object\n",
            " 3   FileName     842 non-null    object\n",
            "dtypes: object(4)\n",
            "memory usage: 32.9+ KB\n"
          ]
        }
      ]
    },
    {
      "cell_type": "code",
      "source": [
        "len(df)"
      ],
      "metadata": {
        "colab": {
          "base_uri": "https://localhost:8080/"
        },
        "id": "d0eLsdcFvSf1",
        "outputId": "4535dabf-7f6c-4a79-a764-db6ffb41e2ca"
      },
      "execution_count": null,
      "outputs": [
        {
          "output_type": "execute_result",
          "data": {
            "text/plain": [
              "842"
            ]
          },
          "metadata": {},
          "execution_count": 53
        }
      ]
    },
    {
      "cell_type": "code",
      "source": [
        "# quality control\n",
        "for index, row in df.iterrows():\n",
        "    if row.isnull().any():  # Check if there is any NaN value in the row\n",
        "        print(f\"NaN found at index {index}:\")\n",
        "        print(row)  # Print the entire record"
      ],
      "metadata": {
        "id": "i1hzJvYdvUfb"
      },
      "execution_count": null,
      "outputs": []
    },
    {
      "cell_type": "markdown",
      "source": [
        "## Batch upinserting"
      ],
      "metadata": {
        "id": "wCrmMSMRvVos"
      }
    },
    {
      "cell_type": "code",
      "source": [
        "# connect to index\n",
        "index = pc.Index(index_name)\n",
        "# view index stats\n",
        "index.describe_index_stats()"
      ],
      "metadata": {
        "colab": {
          "base_uri": "https://localhost:8080/"
        },
        "id": "F3eTUiMt1qvP",
        "outputId": "2032e4d0-5bc7-4279-a448-1fc1d2fbadd3"
      },
      "execution_count": null,
      "outputs": [
        {
          "output_type": "execute_result",
          "data": {
            "text/plain": [
              "{'dimension': 1536,\n",
              " 'index_fullness': 0.0,\n",
              " 'metric': 'cosine',\n",
              " 'namespaces': {},\n",
              " 'total_vector_count': 0,\n",
              " 'vector_type': 'dense'}"
            ]
          },
          "metadata": {},
          "execution_count": 82
        }
      ]
    },
    {
      "cell_type": "code",
      "source": [
        "# Start timing before the request\n",
        "start_time = time.time()\n",
        "\n",
        "# Prepare data for upsert\n",
        "data_for_upsert = [\n",
        "    {\n",
        "        \"id\": str(df['ID'].iloc[i]),  # Use existing IDs as string\n",
        "        \"values\": pure_embeddings[i],\n",
        "        \"metadata\": {\n",
        "            \"text\": df['Comment'].iloc[i],\n",
        "            \"frame_number\": df['FrameNumber'].iloc[i],\n",
        "            \"file_name\": df['FileName'].iloc[i]\n",
        "        }\n",
        "    }\n",
        "    for i in range(len(df))\n",
        "]\n",
        "\n",
        "# Define a suitable batch size\n",
        "batch_size = 100  # You might need to adjust this depending on the average size of your data entries\n",
        "\n",
        "# Function to handle batching\n",
        "def upsert_in_batches(data, batch_size):\n",
        "    for start in range(0, len(data), batch_size):\n",
        "        end = start + batch_size\n",
        "        batch = data[start:end]\n",
        "        try:\n",
        "            index.upsert(vectors=batch)\n",
        "            print(f\"Upserted batch from index {start} to {end - 1}\")\n",
        "        except Exception as e:\n",
        "            print(f\"Failed to upsert batch from index {start} to {end - 1}: {e}\")\n",
        "\n",
        "# Perform upsert in batches\n",
        "upsert_in_batches(data_for_upsert, batch_size)\n",
        "\n",
        "# Measure and print response time\n",
        "response_time = time.time() - start_time\n",
        "print(f\"Total upsertion time: {response_time:.2f} seconds\")"
      ],
      "metadata": {
        "colab": {
          "base_uri": "https://localhost:8080/"
        },
        "id": "pS4ZHtaMvX9z",
        "outputId": "26aaa238-aa80-45fd-86b7-9d3e48dde939"
      },
      "execution_count": null,
      "outputs": [
        {
          "output_type": "stream",
          "name": "stdout",
          "text": [
            "Upserted batch from index 0 to 99\n",
            "Upserted batch from index 100 to 199\n",
            "Upserted batch from index 200 to 299\n",
            "Upserted batch from index 300 to 399\n",
            "Upserted batch from index 400 to 499\n",
            "Upserted batch from index 500 to 599\n",
            "Upserted batch from index 600 to 699\n",
            "Upserted batch from index 700 to 799\n",
            "Upserted batch from index 800 to 899\n",
            "Total upsertion time: 8.69 seconds\n"
          ]
        }
      ]
    },
    {
      "cell_type": "markdown",
      "source": [
        "# Statistics after upserting the dataset"
      ],
      "metadata": {
        "id": "6z9U8zmS1vJ1"
      }
    },
    {
      "cell_type": "code",
      "source": [
        "print(index.describe_index_stats(include_metadata=True))"
      ],
      "metadata": {
        "colab": {
          "base_uri": "https://localhost:8080/"
        },
        "id": "nNX-jZwn1xgd",
        "outputId": "dc8a381a-960f-4029-e4ee-08d4a926cc83"
      },
      "execution_count": null,
      "outputs": [
        {
          "output_type": "stream",
          "name": "stdout",
          "text": [
            "{'dimension': 1536,\n",
            " 'index_fullness': 0.0,\n",
            " 'metric': 'cosine',\n",
            " 'namespaces': {'': {'vector_count': 823}},\n",
            " 'total_vector_count': 823,\n",
            " 'vector_type': 'dense'}\n"
          ]
        }
      ]
    },
    {
      "cell_type": "code",
      "source": [
        "# Get index information\n",
        "index_info = index.describe_index_stats(include_metadata=True)\n",
        "\n",
        "# Extract dimensions and vector count\n",
        "dimensions_per_vector = index_info['dimension']\n",
        "total_vectors = index_info['total_vector_count']  # or index_info['namespaces']['']['vector_count'] if using namespaces\n",
        "\n",
        "# Output extracted information\n",
        "print(f\"Dimensions per vector: {dimensions_per_vector}\")\n",
        "print(f\"Total vectors: {total_vectors}\")\n",
        "\n",
        "# Calculate storage requirements as before\n",
        "bytes_per_float = 4\n",
        "bytes_per_vector = dimensions_per_vector * bytes_per_float\n",
        "total_bytes = bytes_per_vector * total_vectors\n",
        "total_megabytes = total_bytes / (1024 ** 2)\n",
        "\n",
        "print(f\"Total estimated size of the index: {total_megabytes:.2f} MB\")"
      ],
      "metadata": {
        "colab": {
          "base_uri": "https://localhost:8080/"
        },
        "id": "GIscH7dH13k1",
        "outputId": "b6e2ed9c-37e7-4a7c-e927-50465b985d4b"
      },
      "execution_count": null,
      "outputs": [
        {
          "output_type": "stream",
          "name": "stdout",
          "text": [
            "Dimensions per vector: 1536\n",
            "Total vectors: 823\n",
            "Total estimated size of the index: 4.82 MB\n"
          ]
        }
      ]
    },
    {
      "cell_type": "markdown",
      "source": [
        "# Querying vector store after upserting the dataset"
      ],
      "metadata": {
        "id": "kiX0mENa2IuF"
      }
    },
    {
      "cell_type": "code",
      "source": [
        "k = 1\n",
        "\n",
        "query_text = \"Find a basketball player that is scoring with a dunk.\""
      ],
      "metadata": {
        "id": "eglRRfap2LnN"
      },
      "execution_count": null,
      "outputs": []
    },
    {
      "cell_type": "code",
      "source": [
        "import time\n",
        "\n",
        "start_time = time.time()\n",
        "\n",
        "query_embedding = get_embedding(query_text, model=embedding_model)\n",
        "query_results = index.query(vector=query_embedding, top_k=k, include_metadata=True)\n",
        "\n",
        "print(\"Query Results:\")\n",
        "for match in query_results['matches']:\n",
        "    print(f\"ID: {match['id']}, Score: {match['score']}\")\n",
        "\n",
        "    # Check if metadata is available\n",
        "    if 'metadata' in match:\n",
        "        metadata = match['metadata']\n",
        "        text = metadata.get('text', \"No text metadata available.\")\n",
        "        frame_number = metadata.get('frame_number', \"No frame number available.\")\n",
        "        file_name = metadata.get('file_name', \"No file name available.\")\n",
        "\n",
        "        print(f\"Text: {text}\")\n",
        "        print(f\"Frame Number: {frame_number}\")\n",
        "        print(f\"File Name: {file_name}\")\n",
        "    else:\n",
        "        print(\"No metadata available.\")\n",
        "\n",
        "# Measure response time\n",
        "response_time = time.time() - start_time\n",
        "print(f\"Querying response time: {response_time:.2f} seconds\")  # Print response time"
      ],
      "metadata": {
        "colab": {
          "base_uri": "https://localhost:8080/"
        },
        "id": "Fg8KeP_D2QI1",
        "outputId": "b094e8f2-f116-496c-9991-036d1650dbd3"
      },
      "execution_count": null,
      "outputs": [
        {
          "output_type": "stream",
          "name": "stdout",
          "text": [
            "Query Results:\n",
            "ID: f104138b-0be8-4f4c-bf99-86d0eb34f7ee, Score: 0.590099454\n",
            "Text: In this image, there is a person who appears to be in the process of executing a dunk in basketball. The individual is airborne, with one arm extended upwards towards the basketball hoop, holding a basketball in hand, preparing to slam it through the hoop. The word \"dunk\" is superimposed on the image, confirming the action taking place. The background shows clear skies and a modern building, suggesting this might be an outdoor basketball court in an urban setting. The player is wearing athletic wear and a pair of basketball shoes, suitable for the sport. The dynamic posture and the context indicate an athletic and powerful movement, typical of a basketball dunk.\n",
            "Frame Number: 191\n",
            "File Name: basketball3.mp4\n",
            "Querying response time: 0.56 seconds\n"
          ]
        }
      ]
    },
    {
      "cell_type": "markdown",
      "source": [
        "## Displaying the video"
      ],
      "metadata": {
        "id": "VmwBmduH3fVe"
      }
    },
    {
      "cell_type": "code",
      "source": [
        "print(file_name)"
      ],
      "metadata": {
        "colab": {
          "base_uri": "https://localhost:8080/"
        },
        "id": "I_zqBcOX3Bis",
        "outputId": "3a730bb9-1428-4246-af33-e82d9e753874"
      },
      "execution_count": null,
      "outputs": [
        {
          "output_type": "stream",
          "name": "stdout",
          "text": [
            "basketball3.mp4\n"
          ]
        }
      ]
    },
    {
      "cell_type": "code",
      "source": [
        "# downloading file from GitHub\n",
        "directory = \"Chapter10/videos\"\n",
        "filename = file_name\n",
        "download(directory,file_name)"
      ],
      "metadata": {
        "colab": {
          "base_uri": "https://localhost:8080/"
        },
        "id": "wenqabK33iOM",
        "outputId": "e1adf3e2-e0c5-46b5-845b-820e3c8a73bb"
      },
      "execution_count": null,
      "outputs": [
        {
          "output_type": "stream",
          "name": "stdout",
          "text": [
            "Downloaded 'basketball3.mp4' successfully.\n"
          ]
        }
      ]
    },
    {
      "cell_type": "code",
      "source": [
        "# Open the file in binary mode\n",
        "def display_video(file_name):\n",
        "  with open(file_name, 'rb') as file:\n",
        "      video_data = file.read()\n",
        "\n",
        "  # Encode the video file as base64\n",
        "  video_url = b64encode(video_data).decode()\n",
        "\n",
        "  # Create an HTML string with the embedded video\n",
        "  html = f'''\n",
        "\n",
        "  '''\n",
        "  # Display the video\n",
        "  HTML(html)\n",
        "  # Return the HTML object\n",
        "  return HTML(html)\n",
        "\n",
        "display_video(file_name)"
      ],
      "metadata": {
        "id": "pSxRJe8X3nDl"
      },
      "execution_count": null,
      "outputs": []
    }
  ]
}